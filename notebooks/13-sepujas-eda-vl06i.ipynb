{
 "cells": [
  {
   "cell_type": "code",
   "execution_count": 1,
   "metadata": {},
   "outputs": [],
   "source": [
    "import pandas as pd\n",
    "import os"
   ]
  },
  {
   "cell_type": "code",
   "execution_count": 2,
   "metadata": {},
   "outputs": [
    {
     "name": "stdout",
     "output_type": "stream",
     "text": [
      "c:\\Users\\sepujas\\Dev\\mat\\notebooks\n"
     ]
    }
   ],
   "source": [
    "current_path = os.getcwd()\n",
    "print(current_path)"
   ]
  },
  {
   "cell_type": "code",
   "execution_count": 3,
   "metadata": {},
   "outputs": [
    {
     "name": "stdout",
     "output_type": "stream",
     "text": [
      "c:\\Users\\sepujas\\Dev\\mat\n"
     ]
    }
   ],
   "source": [
    "base_path = os.path.abspath(os.path.join(current_path, os.pardir))\n",
    "print(base_path)"
   ]
  },
  {
   "cell_type": "code",
   "execution_count": 4,
   "metadata": {},
   "outputs": [
    {
     "name": "stdout",
     "output_type": "stream",
     "text": [
      "c:\\Users\\sepujas\\Dev\\mat\\data\\raw\\tbl_vl06i.txt\n",
      "c:\\Users\\sepujas\\Dev\\mat\\data\\preprocessed\\tbl_vl06i.csv\n"
     ]
    }
   ],
   "source": [
    "vl06i_file_path = os.path.join(base_path, 'data', 'raw', 'tbl_vl06i.txt')\n",
    "print(vl06i_file_path)\n",
    "vl06i_preprocessed_path = os.path.join(base_path, 'data', 'preprocessed', 'tbl_vl06i.csv')\n",
    "print(vl06i_preprocessed_path)"
   ]
  },
  {
   "cell_type": "code",
   "execution_count": 5,
   "metadata": {},
   "outputs": [],
   "source": [
    "df_vl06i = pd.read_csv(vl06i_file_path, sep='\\t', skiprows=3, encoding='latin1')\n"
   ]
  },
  {
   "cell_type": "code",
   "execution_count": 6,
   "metadata": {},
   "outputs": [
    {
     "data": {
      "text/html": [
       "<div>\n",
       "<style scoped>\n",
       "    .dataframe tbody tr th:only-of-type {\n",
       "        vertical-align: middle;\n",
       "    }\n",
       "\n",
       "    .dataframe tbody tr th {\n",
       "        vertical-align: top;\n",
       "    }\n",
       "\n",
       "    .dataframe thead th {\n",
       "        text-align: right;\n",
       "    }\n",
       "</style>\n",
       "<table border=\"1\" class=\"dataframe\">\n",
       "  <thead>\n",
       "    <tr style=\"text-align: right;\">\n",
       "      <th></th>\n",
       "      <th>Unnamed: 0</th>\n",
       "      <th>ShPt</th>\n",
       "      <th>Plnt</th>\n",
       "      <th>SLoc</th>\n",
       "      <th>Delivery</th>\n",
       "      <th>Material</th>\n",
       "      <th>Item Description</th>\n",
       "      <th>Dlv.Qty</th>\n",
       "      <th>BUn</th>\n",
       "      <th>Supplier Name</th>\n",
       "      <th>OPS</th>\n",
       "      <th>WM</th>\n",
       "      <th>GM</th>\n",
       "      <th>Deliv.date</th>\n",
       "    </tr>\n",
       "  </thead>\n",
       "  <tbody>\n",
       "    <tr>\n",
       "      <th>0</th>\n",
       "      <td>NaN</td>\n",
       "      <td>8750</td>\n",
       "      <td>8750</td>\n",
       "      <td>1</td>\n",
       "      <td>681152500</td>\n",
       "      <td>1749</td>\n",
       "      <td>Pinza de montaje KNIPEX</td>\n",
       "      <td>6</td>\n",
       "      <td>PC</td>\n",
       "      <td>HILTI</td>\n",
       "      <td>NaN</td>\n",
       "      <td>NaN</td>\n",
       "      <td>A</td>\n",
       "      <td>08.10.2024</td>\n",
       "    </tr>\n",
       "    <tr>\n",
       "      <th>1</th>\n",
       "      <td>NaN</td>\n",
       "      <td>3000</td>\n",
       "      <td>3000</td>\n",
       "      <td>1</td>\n",
       "      <td>680979490</td>\n",
       "      <td>1953</td>\n",
       "      <td>Prolongación de broca TE-FY-E60</td>\n",
       "      <td>6</td>\n",
       "      <td>PC</td>\n",
       "      <td>HILTI</td>\n",
       "      <td>NaN</td>\n",
       "      <td>NaN</td>\n",
       "      <td>A</td>\n",
       "      <td>02.10.2024</td>\n",
       "    </tr>\n",
       "    <tr>\n",
       "      <th>2</th>\n",
       "      <td>NaN</td>\n",
       "      <td>3000</td>\n",
       "      <td>3000</td>\n",
       "      <td>1</td>\n",
       "      <td>681150410</td>\n",
       "      <td>1953</td>\n",
       "      <td>Prolongación de broca TE-FY-E60</td>\n",
       "      <td>4</td>\n",
       "      <td>PC</td>\n",
       "      <td>HILTI</td>\n",
       "      <td>NaN</td>\n",
       "      <td>NaN</td>\n",
       "      <td>A</td>\n",
       "      <td>06.11.2024</td>\n",
       "    </tr>\n",
       "    <tr>\n",
       "      <th>3</th>\n",
       "      <td>NaN</td>\n",
       "      <td>8650</td>\n",
       "      <td>8650</td>\n",
       "      <td>1</td>\n",
       "      <td>681047863</td>\n",
       "      <td>1954</td>\n",
       "      <td>Prolongación de broca TE-FY-E85</td>\n",
       "      <td>30</td>\n",
       "      <td>PC</td>\n",
       "      <td>HILTI</td>\n",
       "      <td>NaN</td>\n",
       "      <td>NaN</td>\n",
       "      <td>A</td>\n",
       "      <td>30.09.2024</td>\n",
       "    </tr>\n",
       "    <tr>\n",
       "      <th>4</th>\n",
       "      <td>NaN</td>\n",
       "      <td>3000</td>\n",
       "      <td>3000</td>\n",
       "      <td>1</td>\n",
       "      <td>681150418</td>\n",
       "      <td>1954</td>\n",
       "      <td>Prolongación de broca TE-FY-E85</td>\n",
       "      <td>4</td>\n",
       "      <td>PC</td>\n",
       "      <td>HILTI</td>\n",
       "      <td>NaN</td>\n",
       "      <td>NaN</td>\n",
       "      <td>A</td>\n",
       "      <td>06.11.2024</td>\n",
       "    </tr>\n",
       "  </tbody>\n",
       "</table>\n",
       "</div>"
      ],
      "text/plain": [
       "   Unnamed: 0  ShPt  Plnt  SLoc   Delivery  Material  \\\n",
       "0         NaN  8750  8750     1  681152500      1749   \n",
       "1         NaN  3000  3000     1  680979490      1953   \n",
       "2         NaN  3000  3000     1  681150410      1953   \n",
       "3         NaN  8650  8650     1  681047863      1954   \n",
       "4         NaN  3000  3000     1  681150418      1954   \n",
       "\n",
       "                  Item Description  Dlv.Qty BUn Supplier Name  OPS  WM GM  \\\n",
       "0          Pinza de montaje KNIPEX        6  PC         HILTI  NaN NaN  A   \n",
       "1  Prolongación de broca TE-FY-E60        6  PC         HILTI  NaN NaN  A   \n",
       "2  Prolongación de broca TE-FY-E60        4  PC         HILTI  NaN NaN  A   \n",
       "3  Prolongación de broca TE-FY-E85       30  PC         HILTI  NaN NaN  A   \n",
       "4  Prolongación de broca TE-FY-E85        4  PC         HILTI  NaN NaN  A   \n",
       "\n",
       "   Deliv.date  \n",
       "0  08.10.2024  \n",
       "1  02.10.2024  \n",
       "2  06.11.2024  \n",
       "3  30.09.2024  \n",
       "4  06.11.2024  "
      ]
     },
     "execution_count": 6,
     "metadata": {},
     "output_type": "execute_result"
    }
   ],
   "source": [
    "df_vl06i.head()"
   ]
  },
  {
   "cell_type": "code",
   "execution_count": 7,
   "metadata": {},
   "outputs": [],
   "source": [
    "unnamed_columns = [col for col in df_vl06i.columns if 'Unnamed:' in col]\n",
    "df_vl06i.drop(columns=unnamed_columns, inplace=True)\n",
    "column_titles = df_vl06i.columns.tolist()\n",
    "new_column_titles = {col: col.strip().replace(' ', '_').replace('-','_').replace('.','') for col in column_titles}\n",
    "df_vl06i.rename(columns=new_column_titles, inplace=True)"
   ]
  },
  {
   "cell_type": "code",
   "execution_count": 8,
   "metadata": {},
   "outputs": [],
   "source": [
    "column_counts = df_vl06i.columns.value_counts()\n",
    "duplicate_columns = column_counts[column_counts > 1].index"
   ]
  },
  {
   "cell_type": "code",
   "execution_count": 9,
   "metadata": {},
   "outputs": [],
   "source": [
    "for col in duplicate_columns:\n",
    "    col_indices = [i for i, x in enumerate(df_vl06i.columns) if x == col]\n",
    "    for j, index in enumerate(col_indices):\n",
    "        df_vl06i.columns.values[index] = f\"{col}_{j+1}\""
   ]
  },
  {
   "cell_type": "code",
   "execution_count": 10,
   "metadata": {},
   "outputs": [
    {
     "data": {
      "text/plain": [
       "['ShPt',\n",
       " 'Plnt',\n",
       " 'SLoc',\n",
       " 'Delivery',\n",
       " 'Material',\n",
       " 'Item_Description',\n",
       " 'DlvQty',\n",
       " 'BUn',\n",
       " 'Supplier_Name',\n",
       " 'OPS',\n",
       " 'WM',\n",
       " 'GM',\n",
       " 'Delivdate']"
      ]
     },
     "execution_count": 10,
     "metadata": {},
     "output_type": "execute_result"
    }
   ],
   "source": [
    "df_vl06i.columns.tolist()"
   ]
  },
  {
   "cell_type": "code",
   "execution_count": 11,
   "metadata": {},
   "outputs": [
    {
     "data": {
      "text/plain": [
       "ShPt                  int64\n",
       "Plnt                  int64\n",
       "SLoc                  int64\n",
       "Delivery              int64\n",
       "Material              int64\n",
       "Item_Description     object\n",
       "DlvQty               object\n",
       "BUn                  object\n",
       "Supplier_Name        object\n",
       "OPS                 float64\n",
       "WM                  float64\n",
       "GM                   object\n",
       "Delivdate            object\n",
       "dtype: object"
      ]
     },
     "execution_count": 11,
     "metadata": {},
     "output_type": "execute_result"
    }
   ],
   "source": [
    "df_vl06i.dtypes"
   ]
  },
  {
   "cell_type": "code",
   "execution_count": 12,
   "metadata": {},
   "outputs": [],
   "source": [
    "def transform_columns(df):\n",
    "    str_columns = [\n",
    "        'Item_Description', 'BUn', 'Supplier_Name']\n",
    "    for col in str_columns:\n",
    "        df[col] = df[col].astype(str).str.strip()\n",
    "\n",
    "    numeric_columns = ['ShPt', 'Plnt', 'SLoc', 'Material', 'Delivery', 'WM', 'OPS']\n",
    "    for col in numeric_columns:\n",
    "        df[col] = pd.to_numeric(df[col], errors='coerce').fillna(0).astype(int).astype(str)\n",
    "\n",
    "    df['DlvQty'] = df['DlvQty'].astype(str).str.replace('.', '').str.replace(',', '.').astype(float)\n",
    "\n",
    "    date_columns = ['Delivdate']\n",
    "    for col in date_columns:\n",
    "        df[col] = pd.to_datetime(df[col], errors=\"coerce\", format='%d.%m.%Y')\n",
    "\n",
    "transform_columns(df_vl06i)"
   ]
  },
  {
   "cell_type": "code",
   "execution_count": 13,
   "metadata": {},
   "outputs": [
    {
     "data": {
      "text/html": [
       "<div>\n",
       "<style scoped>\n",
       "    .dataframe tbody tr th:only-of-type {\n",
       "        vertical-align: middle;\n",
       "    }\n",
       "\n",
       "    .dataframe tbody tr th {\n",
       "        vertical-align: top;\n",
       "    }\n",
       "\n",
       "    .dataframe thead th {\n",
       "        text-align: right;\n",
       "    }\n",
       "</style>\n",
       "<table border=\"1\" class=\"dataframe\">\n",
       "  <thead>\n",
       "    <tr style=\"text-align: right;\">\n",
       "      <th></th>\n",
       "      <th>ShPt</th>\n",
       "      <th>Plnt</th>\n",
       "      <th>SLoc</th>\n",
       "      <th>Delivery</th>\n",
       "      <th>Material</th>\n",
       "      <th>Item_Description</th>\n",
       "      <th>DlvQty</th>\n",
       "      <th>BUn</th>\n",
       "      <th>Supplier_Name</th>\n",
       "      <th>OPS</th>\n",
       "      <th>WM</th>\n",
       "      <th>GM</th>\n",
       "      <th>Delivdate</th>\n",
       "    </tr>\n",
       "  </thead>\n",
       "  <tbody>\n",
       "    <tr>\n",
       "      <th>0</th>\n",
       "      <td>8750</td>\n",
       "      <td>8750</td>\n",
       "      <td>1</td>\n",
       "      <td>681152500</td>\n",
       "      <td>1749</td>\n",
       "      <td>Pinza de montaje KNIPEX</td>\n",
       "      <td>6.0</td>\n",
       "      <td>PC</td>\n",
       "      <td>HILTI</td>\n",
       "      <td>0</td>\n",
       "      <td>0</td>\n",
       "      <td>A</td>\n",
       "      <td>2024-10-08</td>\n",
       "    </tr>\n",
       "    <tr>\n",
       "      <th>1</th>\n",
       "      <td>3000</td>\n",
       "      <td>3000</td>\n",
       "      <td>1</td>\n",
       "      <td>680979490</td>\n",
       "      <td>1953</td>\n",
       "      <td>Prolongación de broca TE-FY-E60</td>\n",
       "      <td>6.0</td>\n",
       "      <td>PC</td>\n",
       "      <td>HILTI</td>\n",
       "      <td>0</td>\n",
       "      <td>0</td>\n",
       "      <td>A</td>\n",
       "      <td>2024-10-02</td>\n",
       "    </tr>\n",
       "    <tr>\n",
       "      <th>2</th>\n",
       "      <td>3000</td>\n",
       "      <td>3000</td>\n",
       "      <td>1</td>\n",
       "      <td>681150410</td>\n",
       "      <td>1953</td>\n",
       "      <td>Prolongación de broca TE-FY-E60</td>\n",
       "      <td>4.0</td>\n",
       "      <td>PC</td>\n",
       "      <td>HILTI</td>\n",
       "      <td>0</td>\n",
       "      <td>0</td>\n",
       "      <td>A</td>\n",
       "      <td>2024-11-06</td>\n",
       "    </tr>\n",
       "    <tr>\n",
       "      <th>3</th>\n",
       "      <td>8650</td>\n",
       "      <td>8650</td>\n",
       "      <td>1</td>\n",
       "      <td>681047863</td>\n",
       "      <td>1954</td>\n",
       "      <td>Prolongación de broca TE-FY-E85</td>\n",
       "      <td>30.0</td>\n",
       "      <td>PC</td>\n",
       "      <td>HILTI</td>\n",
       "      <td>0</td>\n",
       "      <td>0</td>\n",
       "      <td>A</td>\n",
       "      <td>2024-09-30</td>\n",
       "    </tr>\n",
       "    <tr>\n",
       "      <th>4</th>\n",
       "      <td>3000</td>\n",
       "      <td>3000</td>\n",
       "      <td>1</td>\n",
       "      <td>681150418</td>\n",
       "      <td>1954</td>\n",
       "      <td>Prolongación de broca TE-FY-E85</td>\n",
       "      <td>4.0</td>\n",
       "      <td>PC</td>\n",
       "      <td>HILTI</td>\n",
       "      <td>0</td>\n",
       "      <td>0</td>\n",
       "      <td>A</td>\n",
       "      <td>2024-11-06</td>\n",
       "    </tr>\n",
       "  </tbody>\n",
       "</table>\n",
       "</div>"
      ],
      "text/plain": [
       "   ShPt  Plnt SLoc   Delivery Material                 Item_Description  \\\n",
       "0  8750  8750    1  681152500     1749          Pinza de montaje KNIPEX   \n",
       "1  3000  3000    1  680979490     1953  Prolongación de broca TE-FY-E60   \n",
       "2  3000  3000    1  681150410     1953  Prolongación de broca TE-FY-E60   \n",
       "3  8650  8650    1  681047863     1954  Prolongación de broca TE-FY-E85   \n",
       "4  3000  3000    1  681150418     1954  Prolongación de broca TE-FY-E85   \n",
       "\n",
       "   DlvQty BUn Supplier_Name OPS WM GM  Delivdate  \n",
       "0     6.0  PC         HILTI   0  0  A 2024-10-08  \n",
       "1     6.0  PC         HILTI   0  0  A 2024-10-02  \n",
       "2     4.0  PC         HILTI   0  0  A 2024-11-06  \n",
       "3    30.0  PC         HILTI   0  0  A 2024-09-30  \n",
       "4     4.0  PC         HILTI   0  0  A 2024-11-06  "
      ]
     },
     "execution_count": 13,
     "metadata": {},
     "output_type": "execute_result"
    }
   ],
   "source": [
    "df_vl06i.head()"
   ]
  },
  {
   "cell_type": "code",
   "execution_count": 14,
   "metadata": {},
   "outputs": [
    {
     "data": {
      "text/plain": [
       "ShPt                        object\n",
       "Plnt                        object\n",
       "SLoc                        object\n",
       "Delivery                    object\n",
       "Material                    object\n",
       "Item_Description            object\n",
       "DlvQty                     float64\n",
       "BUn                         object\n",
       "Supplier_Name               object\n",
       "OPS                         object\n",
       "WM                          object\n",
       "GM                          object\n",
       "Delivdate           datetime64[ns]\n",
       "dtype: object"
      ]
     },
     "execution_count": 14,
     "metadata": {},
     "output_type": "execute_result"
    }
   ],
   "source": [
    "df_vl06i.dtypes"
   ]
  },
  {
   "cell_type": "code",
   "execution_count": 15,
   "metadata": {},
   "outputs": [],
   "source": [
    "df_vl06i['key_plant'] = df_vl06i['Plnt'] + '/' + df_vl06i['Material']\n",
    "df_vl06i['key_plant'] = df_vl06i['key_plant'].astype(str).str.strip()\n",
    "df_vl06i['key_material'] = df_vl06i['ShPt'] + '/' + df_vl06i['Material']\n",
    "df_vl06i['key_material'] = df_vl06i['key_material'].astype(str).str.strip()"
   ]
  },
  {
   "cell_type": "code",
   "execution_count": 16,
   "metadata": {},
   "outputs": [],
   "source": [
    "df_vl06i.to_csv(vl06i_preprocessed_path, index=False, sep='|')"
   ]
  },
  {
   "cell_type": "code",
   "execution_count": 17,
   "metadata": {},
   "outputs": [
    {
     "data": {
      "text/plain": [
       "ShPt                        object\n",
       "Plnt                        object\n",
       "SLoc                        object\n",
       "Delivery                    object\n",
       "Material                    object\n",
       "Item_Description            object\n",
       "DlvQty                     float64\n",
       "BUn                         object\n",
       "Supplier_Name               object\n",
       "OPS                         object\n",
       "WM                          object\n",
       "GM                          object\n",
       "Delivdate           datetime64[ns]\n",
       "key_plant                   object\n",
       "key_material                object\n",
       "dtype: object"
      ]
     },
     "execution_count": 17,
     "metadata": {},
     "output_type": "execute_result"
    }
   ],
   "source": [
    "df_vl06i.dtypes"
   ]
  }
 ],
 "metadata": {
  "kernelspec": {
   "display_name": ".venv",
   "language": "python",
   "name": "python3"
  },
  "language_info": {
   "codemirror_mode": {
    "name": "ipython",
    "version": 3
   },
   "file_extension": ".py",
   "mimetype": "text/x-python",
   "name": "python",
   "nbconvert_exporter": "python",
   "pygments_lexer": "ipython3",
   "version": "3.12.4"
  }
 },
 "nbformat": 4,
 "nbformat_minor": 2
}
