{
 "cells": [
  {
   "cell_type": "code",
   "execution_count": 1,
   "metadata": {},
   "outputs": [],
   "source": [
    "import pandas as pd\n",
    "import os"
   ]
  },
  {
   "cell_type": "code",
   "execution_count": 2,
   "metadata": {},
   "outputs": [
    {
     "name": "stdout",
     "output_type": "stream",
     "text": [
      "c:\\Users\\sepujas\\Dev\\mat\\notebooks\n"
     ]
    }
   ],
   "source": [
    "current_path = os.getcwd()\n",
    "print(current_path)"
   ]
  },
  {
   "cell_type": "code",
   "execution_count": 3,
   "metadata": {},
   "outputs": [
    {
     "name": "stdout",
     "output_type": "stream",
     "text": [
      "c:\\Users\\sepujas\\Dev\\mat\n"
     ]
    }
   ],
   "source": [
    "base_path = os.path.abspath(os.path.join(current_path, os.pardir))\n",
    "print(base_path)"
   ]
  },
  {
   "cell_type": "code",
   "execution_count": 4,
   "metadata": {},
   "outputs": [
    {
     "name": "stdout",
     "output_type": "stream",
     "text": [
      "c:\\Users\\sepujas\\Dev\\mat\\data\\raw\\tbl_vl06o.txt\n"
     ]
    }
   ],
   "source": [
    "outbound_file_path = os.path.join(base_path, 'data', 'raw', 'tbl_vl06o.txt')\n",
    "print(outbound_file_path)"
   ]
  },
  {
   "cell_type": "code",
   "execution_count": 5,
   "metadata": {},
   "outputs": [
    {
     "name": "stdout",
     "output_type": "stream",
     "text": [
      "c:\\Users\\sepujas\\Dev\\mat\\data\\preprocessed\\tbl_outbound.csv\n"
     ]
    }
   ],
   "source": [
    "outbound_preprocessed_path = os.path.join(base_path, 'data', 'preprocessed', 'tbl_outbound.csv')\n",
    "print(outbound_preprocessed_path)"
   ]
  },
  {
   "cell_type": "code",
   "execution_count": 6,
   "metadata": {},
   "outputs": [
    {
     "data": {
      "text/html": [
       "<div>\n",
       "<style scoped>\n",
       "    .dataframe tbody tr th:only-of-type {\n",
       "        vertical-align: middle;\n",
       "    }\n",
       "\n",
       "    .dataframe tbody tr th {\n",
       "        vertical-align: top;\n",
       "    }\n",
       "\n",
       "    .dataframe thead th {\n",
       "        text-align: right;\n",
       "    }\n",
       "</style>\n",
       "<table border=\"1\" class=\"dataframe\">\n",
       "  <thead>\n",
       "    <tr style=\"text-align: right;\">\n",
       "      <th></th>\n",
       "      <th>Unnamed: 0</th>\n",
       "      <th>SOrg.</th>\n",
       "      <th>Delivery</th>\n",
       "      <th>Item</th>\n",
       "      <th>Material</th>\n",
       "      <th>Item Description</th>\n",
       "      <th>Dlv.Qty</th>\n",
       "      <th>SU</th>\n",
       "      <th>Batch</th>\n",
       "      <th>OPS</th>\n",
       "      <th>PickingSts</th>\n",
       "      <th>WM</th>\n",
       "      <th>GM</th>\n",
       "      <th>Route</th>\n",
       "      <th>Sp.Stck No</th>\n",
       "      <th>Sold-to</th>\n",
       "      <th>Name of Sold-to Party</th>\n",
       "      <th>Pur. Doc.</th>\n",
       "      <th>TrpPlanDt</th>\n",
       "    </tr>\n",
       "  </thead>\n",
       "  <tbody>\n",
       "    <tr>\n",
       "      <th>0</th>\n",
       "      <td>NaN</td>\n",
       "      <td>3000</td>\n",
       "      <td>326105590</td>\n",
       "      <td>10</td>\n",
       "      <td>412689</td>\n",
       "      <td>DX cartucho 6.8/11 M10 STD pardo</td>\n",
       "      <td>100.0</td>\n",
       "      <td>PC</td>\n",
       "      <td>NaN</td>\n",
       "      <td>NaN</td>\n",
       "      <td>NaN</td>\n",
       "      <td>NaN</td>\n",
       "      <td>A</td>\n",
       "      <td>ZMX998</td>\n",
       "      <td>NaN</td>\n",
       "      <td>18469073.0</td>\n",
       "      <td>COPIISA OFFSHORE</td>\n",
       "      <td>574106548</td>\n",
       "      <td>12.06.2024</td>\n",
       "    </tr>\n",
       "    <tr>\n",
       "      <th>1</th>\n",
       "      <td>NaN</td>\n",
       "      <td>3000</td>\n",
       "      <td>326105591</td>\n",
       "      <td>10</td>\n",
       "      <td>412689</td>\n",
       "      <td>DX cartucho 6.8/11 M10 STD pardo</td>\n",
       "      <td>100.0</td>\n",
       "      <td>PC</td>\n",
       "      <td>NaN</td>\n",
       "      <td>NaN</td>\n",
       "      <td>NaN</td>\n",
       "      <td>NaN</td>\n",
       "      <td>A</td>\n",
       "      <td>ZMX998</td>\n",
       "      <td>NaN</td>\n",
       "      <td>18469073.0</td>\n",
       "      <td>COPIISA OFFSHORE</td>\n",
       "      <td>574184151</td>\n",
       "      <td>12.06.2024</td>\n",
       "    </tr>\n",
       "    <tr>\n",
       "      <th>2</th>\n",
       "      <td>NaN</td>\n",
       "      <td>3000</td>\n",
       "      <td>326105607</td>\n",
       "      <td>10</td>\n",
       "      <td>416484</td>\n",
       "      <td>DX cartucho 6.8/18 M10 STD rojo</td>\n",
       "      <td>300.0</td>\n",
       "      <td>PC</td>\n",
       "      <td>NaN</td>\n",
       "      <td>NaN</td>\n",
       "      <td>NaN</td>\n",
       "      <td>NaN</td>\n",
       "      <td>A</td>\n",
       "      <td>ZMX998</td>\n",
       "      <td>NaN</td>\n",
       "      <td>15413947.0</td>\n",
       "      <td>CONSTRUCTORA GARZA PONCE</td>\n",
       "      <td>574174423</td>\n",
       "      <td>12.06.2024</td>\n",
       "    </tr>\n",
       "    <tr>\n",
       "      <th>3</th>\n",
       "      <td>NaN</td>\n",
       "      <td>3000</td>\n",
       "      <td>326105609</td>\n",
       "      <td>10</td>\n",
       "      <td>416486</td>\n",
       "      <td>DX cartucho 6.8/18 M10 STD negro</td>\n",
       "      <td>4.8</td>\n",
       "      <td>PC</td>\n",
       "      <td>NaN</td>\n",
       "      <td>NaN</td>\n",
       "      <td>NaN</td>\n",
       "      <td>NaN</td>\n",
       "      <td>A</td>\n",
       "      <td>ZMX998</td>\n",
       "      <td>NaN</td>\n",
       "      <td>15413947.0</td>\n",
       "      <td>CONSTRUCTORA GARZA PONCE</td>\n",
       "      <td>574238140</td>\n",
       "      <td>12.06.2024</td>\n",
       "    </tr>\n",
       "    <tr>\n",
       "      <th>4</th>\n",
       "      <td>NaN</td>\n",
       "      <td>3000</td>\n",
       "      <td>326105621</td>\n",
       "      <td>10</td>\n",
       "      <td>416484</td>\n",
       "      <td>DX cartucho 6.8/18 M10 STD rojo</td>\n",
       "      <td>11.7</td>\n",
       "      <td>PC</td>\n",
       "      <td>NaN</td>\n",
       "      <td>NaN</td>\n",
       "      <td>NaN</td>\n",
       "      <td>NaN</td>\n",
       "      <td>A</td>\n",
       "      <td>ZMX998</td>\n",
       "      <td>NaN</td>\n",
       "      <td>21534127.0</td>\n",
       "      <td>GRUPO INMOBILIARIO ARRENDADOR</td>\n",
       "      <td>574221812</td>\n",
       "      <td>12.06.2024</td>\n",
       "    </tr>\n",
       "  </tbody>\n",
       "</table>\n",
       "</div>"
      ],
      "text/plain": [
       "   Unnamed: 0  SOrg.   Delivery  Item  Material  \\\n",
       "0         NaN   3000  326105590    10    412689   \n",
       "1         NaN   3000  326105591    10    412689   \n",
       "2         NaN   3000  326105607    10    416484   \n",
       "3         NaN   3000  326105609    10    416486   \n",
       "4         NaN   3000  326105621    10    416484   \n",
       "\n",
       "                   Item Description  Dlv.Qty  SU  Batch  OPS  PickingSts  WM  \\\n",
       "0  DX cartucho 6.8/11 M10 STD pardo    100.0  PC    NaN  NaN         NaN NaN   \n",
       "1  DX cartucho 6.8/11 M10 STD pardo    100.0  PC    NaN  NaN         NaN NaN   \n",
       "2   DX cartucho 6.8/18 M10 STD rojo    300.0  PC    NaN  NaN         NaN NaN   \n",
       "3  DX cartucho 6.8/18 M10 STD negro      4.8  PC    NaN  NaN         NaN NaN   \n",
       "4   DX cartucho 6.8/18 M10 STD rojo     11.7  PC    NaN  NaN         NaN NaN   \n",
       "\n",
       "  GM   Route  Sp.Stck No     Sold-to          Name of Sold-to Party  \\\n",
       "0  A  ZMX998         NaN  18469073.0               COPIISA OFFSHORE   \n",
       "1  A  ZMX998         NaN  18469073.0               COPIISA OFFSHORE   \n",
       "2  A  ZMX998         NaN  15413947.0       CONSTRUCTORA GARZA PONCE   \n",
       "3  A  ZMX998         NaN  15413947.0       CONSTRUCTORA GARZA PONCE   \n",
       "4  A  ZMX998         NaN  21534127.0  GRUPO INMOBILIARIO ARRENDADOR   \n",
       "\n",
       "   Pur. Doc.   TrpPlanDt  \n",
       "0  574106548  12.06.2024  \n",
       "1  574184151  12.06.2024  \n",
       "2  574174423  12.06.2024  \n",
       "3  574238140  12.06.2024  \n",
       "4  574221812  12.06.2024  "
      ]
     },
     "execution_count": 6,
     "metadata": {},
     "output_type": "execute_result"
    }
   ],
   "source": [
    "df_outbound = pd.read_csv(outbound_file_path, sep='\\t', skiprows=3, encoding='latin1')\n",
    "df_outbound.head()"
   ]
  },
  {
   "cell_type": "code",
   "execution_count": 7,
   "metadata": {},
   "outputs": [
    {
     "name": "stdout",
     "output_type": "stream",
     "text": [
      "Columns with 'Unnamed:' in their title:\n",
      "Unnamed: 0\n"
     ]
    }
   ],
   "source": [
    "unnamed_columns = [col for col in df_outbound.columns if 'Unnamed:' in col]\n",
    "\n",
    "print(\"Columns with 'Unnamed:' in their title:\")\n",
    "for col in unnamed_columns:\n",
    "    print(col)"
   ]
  },
  {
   "cell_type": "code",
   "execution_count": 8,
   "metadata": {},
   "outputs": [],
   "source": [
    "df_outbound.drop(columns=unnamed_columns, inplace=True)"
   ]
  },
  {
   "cell_type": "code",
   "execution_count": 9,
   "metadata": {},
   "outputs": [],
   "source": [
    "pd.set_option('display.max_columns', None)\n"
   ]
  },
  {
   "cell_type": "code",
   "execution_count": 10,
   "metadata": {},
   "outputs": [
    {
     "data": {
      "text/html": [
       "<div>\n",
       "<style scoped>\n",
       "    .dataframe tbody tr th:only-of-type {\n",
       "        vertical-align: middle;\n",
       "    }\n",
       "\n",
       "    .dataframe tbody tr th {\n",
       "        vertical-align: top;\n",
       "    }\n",
       "\n",
       "    .dataframe thead th {\n",
       "        text-align: right;\n",
       "    }\n",
       "</style>\n",
       "<table border=\"1\" class=\"dataframe\">\n",
       "  <thead>\n",
       "    <tr style=\"text-align: right;\">\n",
       "      <th></th>\n",
       "      <th>SOrg.</th>\n",
       "      <th>Delivery</th>\n",
       "      <th>Item</th>\n",
       "      <th>Material</th>\n",
       "      <th>Item Description</th>\n",
       "      <th>Dlv.Qty</th>\n",
       "      <th>SU</th>\n",
       "      <th>Batch</th>\n",
       "      <th>OPS</th>\n",
       "      <th>PickingSts</th>\n",
       "      <th>WM</th>\n",
       "      <th>GM</th>\n",
       "      <th>Route</th>\n",
       "      <th>Sp.Stck No</th>\n",
       "      <th>Sold-to</th>\n",
       "      <th>Name of Sold-to Party</th>\n",
       "      <th>Pur. Doc.</th>\n",
       "      <th>TrpPlanDt</th>\n",
       "    </tr>\n",
       "  </thead>\n",
       "  <tbody>\n",
       "    <tr>\n",
       "      <th>0</th>\n",
       "      <td>3000</td>\n",
       "      <td>326105590</td>\n",
       "      <td>10</td>\n",
       "      <td>412689</td>\n",
       "      <td>DX cartucho 6.8/11 M10 STD pardo</td>\n",
       "      <td>100.0</td>\n",
       "      <td>PC</td>\n",
       "      <td>NaN</td>\n",
       "      <td>NaN</td>\n",
       "      <td>NaN</td>\n",
       "      <td>NaN</td>\n",
       "      <td>A</td>\n",
       "      <td>ZMX998</td>\n",
       "      <td>NaN</td>\n",
       "      <td>18469073.0</td>\n",
       "      <td>COPIISA OFFSHORE</td>\n",
       "      <td>574106548</td>\n",
       "      <td>12.06.2024</td>\n",
       "    </tr>\n",
       "    <tr>\n",
       "      <th>1</th>\n",
       "      <td>3000</td>\n",
       "      <td>326105591</td>\n",
       "      <td>10</td>\n",
       "      <td>412689</td>\n",
       "      <td>DX cartucho 6.8/11 M10 STD pardo</td>\n",
       "      <td>100.0</td>\n",
       "      <td>PC</td>\n",
       "      <td>NaN</td>\n",
       "      <td>NaN</td>\n",
       "      <td>NaN</td>\n",
       "      <td>NaN</td>\n",
       "      <td>A</td>\n",
       "      <td>ZMX998</td>\n",
       "      <td>NaN</td>\n",
       "      <td>18469073.0</td>\n",
       "      <td>COPIISA OFFSHORE</td>\n",
       "      <td>574184151</td>\n",
       "      <td>12.06.2024</td>\n",
       "    </tr>\n",
       "    <tr>\n",
       "      <th>2</th>\n",
       "      <td>3000</td>\n",
       "      <td>326105607</td>\n",
       "      <td>10</td>\n",
       "      <td>416484</td>\n",
       "      <td>DX cartucho 6.8/18 M10 STD rojo</td>\n",
       "      <td>300.0</td>\n",
       "      <td>PC</td>\n",
       "      <td>NaN</td>\n",
       "      <td>NaN</td>\n",
       "      <td>NaN</td>\n",
       "      <td>NaN</td>\n",
       "      <td>A</td>\n",
       "      <td>ZMX998</td>\n",
       "      <td>NaN</td>\n",
       "      <td>15413947.0</td>\n",
       "      <td>CONSTRUCTORA GARZA PONCE</td>\n",
       "      <td>574174423</td>\n",
       "      <td>12.06.2024</td>\n",
       "    </tr>\n",
       "    <tr>\n",
       "      <th>3</th>\n",
       "      <td>3000</td>\n",
       "      <td>326105609</td>\n",
       "      <td>10</td>\n",
       "      <td>416486</td>\n",
       "      <td>DX cartucho 6.8/18 M10 STD negro</td>\n",
       "      <td>4.8</td>\n",
       "      <td>PC</td>\n",
       "      <td>NaN</td>\n",
       "      <td>NaN</td>\n",
       "      <td>NaN</td>\n",
       "      <td>NaN</td>\n",
       "      <td>A</td>\n",
       "      <td>ZMX998</td>\n",
       "      <td>NaN</td>\n",
       "      <td>15413947.0</td>\n",
       "      <td>CONSTRUCTORA GARZA PONCE</td>\n",
       "      <td>574238140</td>\n",
       "      <td>12.06.2024</td>\n",
       "    </tr>\n",
       "    <tr>\n",
       "      <th>4</th>\n",
       "      <td>3000</td>\n",
       "      <td>326105621</td>\n",
       "      <td>10</td>\n",
       "      <td>416484</td>\n",
       "      <td>DX cartucho 6.8/18 M10 STD rojo</td>\n",
       "      <td>11.7</td>\n",
       "      <td>PC</td>\n",
       "      <td>NaN</td>\n",
       "      <td>NaN</td>\n",
       "      <td>NaN</td>\n",
       "      <td>NaN</td>\n",
       "      <td>A</td>\n",
       "      <td>ZMX998</td>\n",
       "      <td>NaN</td>\n",
       "      <td>21534127.0</td>\n",
       "      <td>GRUPO INMOBILIARIO ARRENDADOR</td>\n",
       "      <td>574221812</td>\n",
       "      <td>12.06.2024</td>\n",
       "    </tr>\n",
       "  </tbody>\n",
       "</table>\n",
       "</div>"
      ],
      "text/plain": [
       "   SOrg.   Delivery  Item  Material                  Item Description  \\\n",
       "0   3000  326105590    10    412689  DX cartucho 6.8/11 M10 STD pardo   \n",
       "1   3000  326105591    10    412689  DX cartucho 6.8/11 M10 STD pardo   \n",
       "2   3000  326105607    10    416484   DX cartucho 6.8/18 M10 STD rojo   \n",
       "3   3000  326105609    10    416486  DX cartucho 6.8/18 M10 STD negro   \n",
       "4   3000  326105621    10    416484   DX cartucho 6.8/18 M10 STD rojo   \n",
       "\n",
       "   Dlv.Qty  SU  Batch  OPS  PickingSts  WM GM   Route  Sp.Stck No     Sold-to  \\\n",
       "0    100.0  PC    NaN  NaN         NaN NaN  A  ZMX998         NaN  18469073.0   \n",
       "1    100.0  PC    NaN  NaN         NaN NaN  A  ZMX998         NaN  18469073.0   \n",
       "2    300.0  PC    NaN  NaN         NaN NaN  A  ZMX998         NaN  15413947.0   \n",
       "3      4.8  PC    NaN  NaN         NaN NaN  A  ZMX998         NaN  15413947.0   \n",
       "4     11.7  PC    NaN  NaN         NaN NaN  A  ZMX998         NaN  21534127.0   \n",
       "\n",
       "           Name of Sold-to Party  Pur. Doc.   TrpPlanDt  \n",
       "0               COPIISA OFFSHORE  574106548  12.06.2024  \n",
       "1               COPIISA OFFSHORE  574184151  12.06.2024  \n",
       "2       CONSTRUCTORA GARZA PONCE  574174423  12.06.2024  \n",
       "3       CONSTRUCTORA GARZA PONCE  574238140  12.06.2024  \n",
       "4  GRUPO INMOBILIARIO ARRENDADOR  574221812  12.06.2024  "
      ]
     },
     "execution_count": 10,
     "metadata": {},
     "output_type": "execute_result"
    }
   ],
   "source": [
    "df_outbound.head()"
   ]
  },
  {
   "cell_type": "code",
   "execution_count": 11,
   "metadata": {},
   "outputs": [
    {
     "data": {
      "text/plain": [
       "(246, 18)"
      ]
     },
     "execution_count": 11,
     "metadata": {},
     "output_type": "execute_result"
    }
   ],
   "source": [
    "df_outbound.shape"
   ]
  },
  {
   "cell_type": "code",
   "execution_count": 12,
   "metadata": {},
   "outputs": [
    {
     "data": {
      "text/plain": [
       "SOrg.                      int64\n",
       "Delivery                   int64\n",
       "Item                       int64\n",
       "Material                   int64\n",
       "Item Description          object\n",
       "Dlv.Qty                  float64\n",
       "SU                        object\n",
       "Batch                    float64\n",
       "OPS                      float64\n",
       "PickingSts               float64\n",
       "WM                       float64\n",
       "GM                        object\n",
       "Route                     object\n",
       "Sp.Stck No               float64\n",
       "Sold-to                  float64\n",
       "Name of Sold-to Party     object\n",
       "Pur. Doc.                  int64\n",
       "TrpPlanDt                 object\n",
       "dtype: object"
      ]
     },
     "execution_count": 12,
     "metadata": {},
     "output_type": "execute_result"
    }
   ],
   "source": [
    "df_outbound.dtypes"
   ]
  },
  {
   "cell_type": "code",
   "execution_count": 13,
   "metadata": {},
   "outputs": [
    {
     "data": {
      "text/plain": [
       "['SOrg.',\n",
       " 'Delivery',\n",
       " 'Item',\n",
       " 'Material',\n",
       " 'Item Description',\n",
       " 'Dlv.Qty',\n",
       " 'SU',\n",
       " 'Batch',\n",
       " 'OPS',\n",
       " 'PickingSts',\n",
       " 'WM',\n",
       " 'GM',\n",
       " 'Route',\n",
       " 'Sp.Stck No',\n",
       " 'Sold-to',\n",
       " 'Name of Sold-to Party',\n",
       " 'Pur. Doc.',\n",
       " 'TrpPlanDt']"
      ]
     },
     "execution_count": 13,
     "metadata": {},
     "output_type": "execute_result"
    }
   ],
   "source": [
    "column_titles = df_outbound.columns.tolist()\n",
    "column_titles"
   ]
  },
  {
   "cell_type": "code",
   "execution_count": 14,
   "metadata": {},
   "outputs": [],
   "source": [
    "new_column_titles = {col: col.strip().replace(' ', '_').replace('-','_').replace('.','') for col in column_titles}"
   ]
  },
  {
   "cell_type": "code",
   "execution_count": 15,
   "metadata": {},
   "outputs": [],
   "source": [
    "df_outbound.rename(columns=new_column_titles, inplace=True)\n"
   ]
  },
  {
   "cell_type": "code",
   "execution_count": 16,
   "metadata": {},
   "outputs": [
    {
     "data": {
      "text/plain": [
       "['SOrg',\n",
       " 'Delivery',\n",
       " 'Item',\n",
       " 'Material',\n",
       " 'Item_Description',\n",
       " 'DlvQty',\n",
       " 'SU',\n",
       " 'Batch',\n",
       " 'OPS',\n",
       " 'PickingSts',\n",
       " 'WM',\n",
       " 'GM',\n",
       " 'Route',\n",
       " 'SpStck_No',\n",
       " 'Sold_to',\n",
       " 'Name_of_Sold_to_Party',\n",
       " 'Pur_Doc',\n",
       " 'TrpPlanDt']"
      ]
     },
     "execution_count": 16,
     "metadata": {},
     "output_type": "execute_result"
    }
   ],
   "source": [
    "df_outbound.columns.tolist()"
   ]
  },
  {
   "cell_type": "code",
   "execution_count": 18,
   "metadata": {},
   "outputs": [],
   "source": [
    "df_outbound['SOrg'] = df_outbound['SOrg'].fillna(0).astype(int).astype(str).str.strip()\n",
    "df_outbound['Delivery'] = df_outbound['Delivery'].fillna(0).astype(str).str.strip().str.replace('.', '').str.replace(',', '.').astype(int)\n",
    "df_outbound['Item'] = df_outbound['Item'].fillna(0).astype(str).str.strip().str.replace('.', '').str.replace(',', '.').astype(int)\n",
    "df_outbound['Material'] = df_outbound['Material'].fillna(0).astype(int).astype(str).str.strip()\n",
    "df_outbound['Item_Description'] = df_outbound['Item_Description'].astype(str).str.strip()\n",
    "df_outbound['DlvQty'] = df_outbound['DlvQty'].fillna(0).astype(str).str.strip().astype(float)\n",
    "df_outbound['SU'] = df_outbound['SU'].astype(str).str.strip()\n",
    "df_outbound['Batch'] = df_outbound['Batch'].fillna(0).astype(str).str.strip().astype(float)\n",
    "df_outbound['OPS'] = df_outbound['OPS'].fillna(0).astype(str).str.strip().astype(float)\n",
    "df_outbound['PickingSts'] = df_outbound['PickingSts'].fillna(0).astype(str).str.strip().astype(float)\n",
    "df_outbound['WM'] = df_outbound['WM'].fillna(0).astype(str).str.strip().astype(float)\n",
    "df_outbound['GM'] = df_outbound['GM'].astype(str).str.strip()\n",
    "df_outbound['Route'] = df_outbound['Route'].astype(str).str.strip()\n",
    "df_outbound['SpStck_No'] = df_outbound['SpStck_No'].fillna(0).astype(str).str.strip().astype(float)\n",
    "df_outbound['Sold_to'] = df_outbound['Sold_to'].fillna(0).astype(int).astype(str).str.strip()\n",
    "df_outbound['Name_of_Sold_to_Party'] = df_outbound['Name_of_Sold_to_Party'].astype(str).str.strip()\n",
    "df_outbound['Pur_Doc'] = df_outbound['Pur_Doc'].fillna(0).astype(int).astype(str)\n",
    "df_outbound['TrpPlanDt'] = pd.to_datetime(df_outbound['TrpPlanDt'], errors=\"coerce\", format='%d.%m.%Y')\n"
   ]
  },
  {
   "cell_type": "code",
   "execution_count": null,
   "metadata": {},
   "outputs": [],
   "source": [
    "df_outbound['key_material'] = df_outbound['SOrg'] + '/' + df_outbound['Material']\n",
    "df_outbound['key_material'] = df_outbound['key_material'].astype(str).str.strip()\n"
   ]
  },
  {
   "cell_type": "code",
   "execution_count": null,
   "metadata": {},
   "outputs": [
    {
     "data": {
      "text/html": [
       "<div>\n",
       "<style scoped>\n",
       "    .dataframe tbody tr th:only-of-type {\n",
       "        vertical-align: middle;\n",
       "    }\n",
       "\n",
       "    .dataframe tbody tr th {\n",
       "        vertical-align: top;\n",
       "    }\n",
       "\n",
       "    .dataframe thead th {\n",
       "        text-align: right;\n",
       "    }\n",
       "</style>\n",
       "<table border=\"1\" class=\"dataframe\">\n",
       "  <thead>\n",
       "    <tr style=\"text-align: right;\">\n",
       "      <th></th>\n",
       "      <th>SOrg</th>\n",
       "      <th>Delivery</th>\n",
       "      <th>Item</th>\n",
       "      <th>Material</th>\n",
       "      <th>Item_Description</th>\n",
       "      <th>DlvQty</th>\n",
       "      <th>SU</th>\n",
       "      <th>Batch</th>\n",
       "      <th>OPS</th>\n",
       "      <th>PickingSts</th>\n",
       "      <th>WM</th>\n",
       "      <th>GM</th>\n",
       "      <th>Route</th>\n",
       "      <th>SpecStock_No</th>\n",
       "      <th>Sold_to</th>\n",
       "      <th>Name_of_Sold_to_Party</th>\n",
       "      <th>Pur_Doc</th>\n",
       "      <th>TrpPlanDt</th>\n",
       "      <th>key_material</th>\n",
       "    </tr>\n",
       "  </thead>\n",
       "  <tbody>\n",
       "    <tr>\n",
       "      <th>0</th>\n",
       "      <td>3000</td>\n",
       "      <td>326105590</td>\n",
       "      <td>10</td>\n",
       "      <td>412689</td>\n",
       "      <td>DX cartucho 6.8/11 M10 STD pardo</td>\n",
       "      <td>100.0</td>\n",
       "      <td>PC</td>\n",
       "      <td>0.0</td>\n",
       "      <td>0.0</td>\n",
       "      <td>0.0</td>\n",
       "      <td>0.0</td>\n",
       "      <td>A</td>\n",
       "      <td>ZMX998</td>\n",
       "      <td>0.0</td>\n",
       "      <td>18469073</td>\n",
       "      <td>COPIISA OFFSHORE</td>\n",
       "      <td>574106548</td>\n",
       "      <td>2024-06-12</td>\n",
       "      <td>3000/412689</td>\n",
       "    </tr>\n",
       "    <tr>\n",
       "      <th>1</th>\n",
       "      <td>3000</td>\n",
       "      <td>326105591</td>\n",
       "      <td>10</td>\n",
       "      <td>412689</td>\n",
       "      <td>DX cartucho 6.8/11 M10 STD pardo</td>\n",
       "      <td>100.0</td>\n",
       "      <td>PC</td>\n",
       "      <td>0.0</td>\n",
       "      <td>0.0</td>\n",
       "      <td>0.0</td>\n",
       "      <td>0.0</td>\n",
       "      <td>A</td>\n",
       "      <td>ZMX998</td>\n",
       "      <td>0.0</td>\n",
       "      <td>18469073</td>\n",
       "      <td>COPIISA OFFSHORE</td>\n",
       "      <td>574184151</td>\n",
       "      <td>2024-06-12</td>\n",
       "      <td>3000/412689</td>\n",
       "    </tr>\n",
       "    <tr>\n",
       "      <th>2</th>\n",
       "      <td>3000</td>\n",
       "      <td>326105607</td>\n",
       "      <td>10</td>\n",
       "      <td>416484</td>\n",
       "      <td>DX cartucho 6.8/18 M10 STD rojo</td>\n",
       "      <td>300.0</td>\n",
       "      <td>PC</td>\n",
       "      <td>0.0</td>\n",
       "      <td>0.0</td>\n",
       "      <td>0.0</td>\n",
       "      <td>0.0</td>\n",
       "      <td>A</td>\n",
       "      <td>ZMX998</td>\n",
       "      <td>0.0</td>\n",
       "      <td>15413947</td>\n",
       "      <td>CONSTRUCTORA GARZA PONCE</td>\n",
       "      <td>574174423</td>\n",
       "      <td>2024-06-12</td>\n",
       "      <td>3000/416484</td>\n",
       "    </tr>\n",
       "    <tr>\n",
       "      <th>3</th>\n",
       "      <td>3000</td>\n",
       "      <td>326105609</td>\n",
       "      <td>10</td>\n",
       "      <td>416486</td>\n",
       "      <td>DX cartucho 6.8/18 M10 STD negro</td>\n",
       "      <td>4.8</td>\n",
       "      <td>PC</td>\n",
       "      <td>0.0</td>\n",
       "      <td>0.0</td>\n",
       "      <td>0.0</td>\n",
       "      <td>0.0</td>\n",
       "      <td>A</td>\n",
       "      <td>ZMX998</td>\n",
       "      <td>0.0</td>\n",
       "      <td>15413947</td>\n",
       "      <td>CONSTRUCTORA GARZA PONCE</td>\n",
       "      <td>574238140</td>\n",
       "      <td>2024-06-12</td>\n",
       "      <td>3000/416486</td>\n",
       "    </tr>\n",
       "    <tr>\n",
       "      <th>4</th>\n",
       "      <td>3000</td>\n",
       "      <td>326105621</td>\n",
       "      <td>10</td>\n",
       "      <td>416484</td>\n",
       "      <td>DX cartucho 6.8/18 M10 STD rojo</td>\n",
       "      <td>11.7</td>\n",
       "      <td>PC</td>\n",
       "      <td>0.0</td>\n",
       "      <td>0.0</td>\n",
       "      <td>0.0</td>\n",
       "      <td>0.0</td>\n",
       "      <td>A</td>\n",
       "      <td>ZMX998</td>\n",
       "      <td>0.0</td>\n",
       "      <td>21534127</td>\n",
       "      <td>GRUPO INMOBILIARIO ARRENDADOR</td>\n",
       "      <td>574221812</td>\n",
       "      <td>2024-06-12</td>\n",
       "      <td>3000/416484</td>\n",
       "    </tr>\n",
       "  </tbody>\n",
       "</table>\n",
       "</div>"
      ],
      "text/plain": [
       "   SOrg   Delivery  Item Material                  Item_Description  DlvQty  \\\n",
       "0  3000  326105590    10   412689  DX cartucho 6.8/11 M10 STD pardo   100.0   \n",
       "1  3000  326105591    10   412689  DX cartucho 6.8/11 M10 STD pardo   100.0   \n",
       "2  3000  326105607    10   416484   DX cartucho 6.8/18 M10 STD rojo   300.0   \n",
       "3  3000  326105609    10   416486  DX cartucho 6.8/18 M10 STD negro     4.8   \n",
       "4  3000  326105621    10   416484   DX cartucho 6.8/18 M10 STD rojo    11.7   \n",
       "\n",
       "   SU  Batch  OPS  PickingSts   WM GM   Route  SpecStock_No   Sold_to  \\\n",
       "0  PC    0.0  0.0         0.0  0.0  A  ZMX998           0.0  18469073   \n",
       "1  PC    0.0  0.0         0.0  0.0  A  ZMX998           0.0  18469073   \n",
       "2  PC    0.0  0.0         0.0  0.0  A  ZMX998           0.0  15413947   \n",
       "3  PC    0.0  0.0         0.0  0.0  A  ZMX998           0.0  15413947   \n",
       "4  PC    0.0  0.0         0.0  0.0  A  ZMX998           0.0  21534127   \n",
       "\n",
       "           Name_of_Sold_to_Party    Pur_Doc  TrpPlanDt key_material  \n",
       "0               COPIISA OFFSHORE  574106548 2024-06-12  3000/412689  \n",
       "1               COPIISA OFFSHORE  574184151 2024-06-12  3000/412689  \n",
       "2       CONSTRUCTORA GARZA PONCE  574174423 2024-06-12  3000/416484  \n",
       "3       CONSTRUCTORA GARZA PONCE  574238140 2024-06-12  3000/416486  \n",
       "4  GRUPO INMOBILIARIO ARRENDADOR  574221812 2024-06-12  3000/416484  "
      ]
     },
     "execution_count": 21,
     "metadata": {},
     "output_type": "execute_result"
    }
   ],
   "source": [
    "df_outbound.head()"
   ]
  },
  {
   "cell_type": "code",
   "execution_count": null,
   "metadata": {},
   "outputs": [],
   "source": [
    "df_outbound.to_csv(outbound_preprocessed_path, index=False)"
   ]
  },
  {
   "cell_type": "code",
   "execution_count": null,
   "metadata": {},
   "outputs": [
    {
     "data": {
      "text/plain": [
       "SOrg                             object\n",
       "Delivery                          int64\n",
       "Item                              int64\n",
       "Material                         object\n",
       "Item_Description                 object\n",
       "DlvQty                          float64\n",
       "SU                               object\n",
       "Batch                           float64\n",
       "OPS                             float64\n",
       "PickingSts                      float64\n",
       "WM                              float64\n",
       "GM                               object\n",
       "Route                            object\n",
       "SpecStock_No                    float64\n",
       "Sold_to                          object\n",
       "Name_of_Sold_to_Party            object\n",
       "Pur_Doc                          object\n",
       "TrpPlanDt                datetime64[ns]\n",
       "key_material                     object\n",
       "dtype: object"
      ]
     },
     "execution_count": 23,
     "metadata": {},
     "output_type": "execute_result"
    }
   ],
   "source": [
    "df_outbound.dtypes"
   ]
  },
  {
   "cell_type": "code",
   "execution_count": null,
   "metadata": {},
   "outputs": [],
   "source": []
  }
 ],
 "metadata": {
  "kernelspec": {
   "display_name": ".venv",
   "language": "python",
   "name": "python3"
  },
  "language_info": {
   "codemirror_mode": {
    "name": "ipython",
    "version": 3
   },
   "file_extension": ".py",
   "mimetype": "text/x-python",
   "name": "python",
   "nbconvert_exporter": "python",
   "pygments_lexer": "ipython3",
   "version": "3.12.4"
  }
 },
 "nbformat": 4,
 "nbformat_minor": 2
}
