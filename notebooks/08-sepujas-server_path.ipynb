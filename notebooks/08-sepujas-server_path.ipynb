{
 "cells": [
  {
   "cell_type": "code",
   "execution_count": 28,
   "metadata": {},
   "outputs": [],
   "source": [
    "import os\n",
    "import pandas as pd\n",
    "from dotenv import load_dotenv"
   ]
  },
  {
   "cell_type": "code",
   "execution_count": 29,
   "metadata": {},
   "outputs": [
    {
     "name": "stdout",
     "output_type": "stream",
     "text": [
      "c:\\Users\\sepujas\\Dev\\mat\\notebooks\n"
     ]
    }
   ],
   "source": [
    "current_path = os.getcwd()\n",
    "print(current_path)"
   ]
  },
  {
   "cell_type": "code",
   "execution_count": 30,
   "metadata": {},
   "outputs": [
    {
     "name": "stdout",
     "output_type": "stream",
     "text": [
      "c:\\Users\\sepujas\\Dev\\mat\n"
     ]
    }
   ],
   "source": [
    "base_path = os.path.abspath(os.path.join(current_path, '..'))\n",
    "print(base_path)"
   ]
  },
  {
   "cell_type": "code",
   "execution_count": 31,
   "metadata": {},
   "outputs": [
    {
     "name": "stdout",
     "output_type": "stream",
     "text": [
      "c:\\\n"
     ]
    }
   ],
   "source": [
    "root_path = os.path.abspath(os.sep)\n",
    "print(root_path)"
   ]
  },
  {
   "cell_type": "code",
   "execution_count": 32,
   "metadata": {},
   "outputs": [
    {
     "data": {
      "text/plain": [
       "True"
      ]
     },
     "execution_count": 32,
     "metadata": {},
     "output_type": "execute_result"
    }
   ],
   "source": [
    "env_path = os.path.join(base_path, '.env')\n",
    "load_dotenv(env_path)"
   ]
  },
  {
   "cell_type": "code",
   "execution_count": 33,
   "metadata": {},
   "outputs": [
    {
     "name": "stdout",
     "output_type": "stream",
     "text": [
      "\\\\li-pasqlp01\\\\actar\\\\logistic\n"
     ]
    }
   ],
   "source": [
    "network_path = os.getenv(\"SERVER_PATH\")\n",
    "print(network_path)\n",
    "\n"
   ]
  },
  {
   "cell_type": "code",
   "execution_count": 34,
   "metadata": {},
   "outputs": [
    {
     "name": "stdout",
     "output_type": "stream",
     "text": [
      "Z:\n"
     ]
    }
   ],
   "source": [
    "mapped_network_path = os.getenv(\"MAPPED_SERVER_PATH\")\n",
    "print(mapped_network_path)"
   ]
  },
  {
   "cell_type": "code",
   "execution_count": 35,
   "metadata": {},
   "outputs": [],
   "source": [
    "user_name = os.getenv(\"SAP_USERNAME\")\n",
    "user_password = os.getenv(\"SAP_PASSWORD\")\n"
   ]
  },
  {
   "cell_type": "code",
   "execution_count": 36,
   "metadata": {},
   "outputs": [
    {
     "data": {
      "text/plain": [
       "0"
      ]
     },
     "execution_count": 36,
     "metadata": {},
     "output_type": "execute_result"
    }
   ],
   "source": [
    "map_command = f'net use {network_path} /user:{user_name} {user_password}'\n",
    "os.system(map_command)"
   ]
  },
  {
   "cell_type": "code",
   "execution_count": 37,
   "metadata": {},
   "outputs": [
    {
     "name": "stdout",
     "output_type": "stream",
     "text": [
      "Root: \\\\li-pasqlp01\\\\actar\\\\logistic\n",
      "Directory: data\n",
      "File: tbl_bo2cs.csv\n",
      "File: tbl_inbound.csv\n",
      "File: tbl_material_3000.csv\n",
      "File: tbl_material_8300.csv\n",
      "File: tbl_material_8650.csv\n",
      "File: tbl_material_8750.csv\n",
      "File: tbl_outbound.csv\n",
      "File: tbl_sorg_plant.csv\n",
      "File: tbl_stock.csv\n",
      "Root: \\\\li-pasqlp01\\\\actar\\\\logistic\\data\n",
      "File: tbl_stock.csv\n"
     ]
    }
   ],
   "source": [
    "# Verifica el contenido del directorio de red\n",
    "try:\n",
    "    for root, dirs, files in os.walk(network_path):\n",
    "        print(f\"Root: {root}\")\n",
    "        for dir_ in dirs:\n",
    "            print(f\"Directory: {dir_}\")\n",
    "        for file in files:\n",
    "            print(f\"File: {file}\")\n",
    "finally:\n",
    "    # Desmapea la unidad de red\n",
    "    unmap_command = f'net use {network_path} /delete'\n",
    "    os.system(unmap_command)"
   ]
  },
  {
   "cell_type": "code",
   "execution_count": 38,
   "metadata": {},
   "outputs": [
    {
     "name": "stdout",
     "output_type": "stream",
     "text": [
      "\\\\li-pasqlp01\\\\actar\\\\logistic\\data\\tbl_stock.csv\n"
     ]
    }
   ],
   "source": [
    "stock_uploaded_path = os.path.join(network_path,'data','tbl_stock.csv')\n",
    "print(stock_uploaded_path)\n"
   ]
  },
  {
   "cell_type": "code",
   "execution_count": 39,
   "metadata": {},
   "outputs": [
    {
     "name": "stdout",
     "output_type": "stream",
     "text": [
      "c:\\Users\\sepujas\\Dev\\mat\\data\\raw\\tbl_stock_mb52.txt\n"
     ]
    }
   ],
   "source": [
    "stock_file_path = os.path.join(base_path, 'data', 'raw', 'tbl_stock_mb52.txt')\n",
    "print(stock_file_path)\n"
   ]
  },
  {
   "cell_type": "code",
   "execution_count": 40,
   "metadata": {},
   "outputs": [
    {
     "data": {
      "text/html": [
       "<div>\n",
       "<style scoped>\n",
       "    .dataframe tbody tr th:only-of-type {\n",
       "        vertical-align: middle;\n",
       "    }\n",
       "\n",
       "    .dataframe tbody tr th {\n",
       "        vertical-align: top;\n",
       "    }\n",
       "\n",
       "    .dataframe thead th {\n",
       "        text-align: right;\n",
       "    }\n",
       "</style>\n",
       "<table border=\"1\" class=\"dataframe\">\n",
       "  <thead>\n",
       "    <tr style=\"text-align: right;\">\n",
       "      <th></th>\n",
       "      <th>Unnamed: 0</th>\n",
       "      <th>Material</th>\n",
       "      <th>Material Description</th>\n",
       "      <th>SLoc</th>\n",
       "      <th>SL</th>\n",
       "      <th>Plnt</th>\n",
       "      <th>BUn</th>\n",
       "      <th>Unrestricted</th>\n",
       "      <th>Transit/Transf.</th>\n",
       "      <th>Blocked</th>\n",
       "      <th>In Qual. Insp.</th>\n",
       "      <th>Restricted-Use</th>\n",
       "      <th>Returns</th>\n",
       "      <th>Stk in Transit</th>\n",
       "    </tr>\n",
       "  </thead>\n",
       "  <tbody>\n",
       "    <tr>\n",
       "      <th>0</th>\n",
       "      <td>NaN</td>\n",
       "      <td>1954</td>\n",
       "      <td>Drill bit extension TE-FY-E85</td>\n",
       "      <td>1.0</td>\n",
       "      <td>NaN</td>\n",
       "      <td>3000</td>\n",
       "      <td>PC</td>\n",
       "      <td>2</td>\n",
       "      <td>0.0</td>\n",
       "      <td>0.0</td>\n",
       "      <td>0.0</td>\n",
       "      <td>0</td>\n",
       "      <td>0</td>\n",
       "      <td>0.0</td>\n",
       "    </tr>\n",
       "    <tr>\n",
       "      <th>1</th>\n",
       "      <td>NaN</td>\n",
       "      <td>1954</td>\n",
       "      <td>Drill bit extension TE-FY-E85</td>\n",
       "      <td>1.0</td>\n",
       "      <td>NaN</td>\n",
       "      <td>8750</td>\n",
       "      <td>PC</td>\n",
       "      <td>6</td>\n",
       "      <td>0.0</td>\n",
       "      <td>0.0</td>\n",
       "      <td>0.0</td>\n",
       "      <td>0</td>\n",
       "      <td>0</td>\n",
       "      <td>0.0</td>\n",
       "    </tr>\n",
       "    <tr>\n",
       "      <th>2</th>\n",
       "      <td>NaN</td>\n",
       "      <td>3730</td>\n",
       "      <td>Piston ring</td>\n",
       "      <td>1.0</td>\n",
       "      <td>NaN</td>\n",
       "      <td>3000</td>\n",
       "      <td>PC</td>\n",
       "      <td>1</td>\n",
       "      <td>0.0</td>\n",
       "      <td>0.0</td>\n",
       "      <td>0.0</td>\n",
       "      <td>0</td>\n",
       "      <td>0</td>\n",
       "      <td>0.0</td>\n",
       "    </tr>\n",
       "    <tr>\n",
       "      <th>3</th>\n",
       "      <td>NaN</td>\n",
       "      <td>7743</td>\n",
       "      <td>Marking character X-MC S 8/10 0-9</td>\n",
       "      <td>1.0</td>\n",
       "      <td>NaN</td>\n",
       "      <td>3000</td>\n",
       "      <td>PC</td>\n",
       "      <td>1</td>\n",
       "      <td>0.0</td>\n",
       "      <td>0.0</td>\n",
       "      <td>0.0</td>\n",
       "      <td>0</td>\n",
       "      <td>0</td>\n",
       "      <td>0.0</td>\n",
       "    </tr>\n",
       "    <tr>\n",
       "      <th>4</th>\n",
       "      <td>NaN</td>\n",
       "      <td>24631</td>\n",
       "      <td>Cleaner CFR1 500ML</td>\n",
       "      <td>1.0</td>\n",
       "      <td>NaN</td>\n",
       "      <td>3000</td>\n",
       "      <td>PC</td>\n",
       "      <td>5</td>\n",
       "      <td>0.0</td>\n",
       "      <td>5.0</td>\n",
       "      <td>0.0</td>\n",
       "      <td>0</td>\n",
       "      <td>0</td>\n",
       "      <td>0.0</td>\n",
       "    </tr>\n",
       "  </tbody>\n",
       "</table>\n",
       "</div>"
      ],
      "text/plain": [
       "   Unnamed: 0  Material               Material Description  SLoc   SL  Plnt  \\\n",
       "0         NaN      1954      Drill bit extension TE-FY-E85   1.0  NaN  3000   \n",
       "1         NaN      1954      Drill bit extension TE-FY-E85   1.0  NaN  8750   \n",
       "2         NaN      3730                        Piston ring   1.0  NaN  3000   \n",
       "3         NaN      7743  Marking character X-MC S 8/10 0-9   1.0  NaN  3000   \n",
       "4         NaN     24631                 Cleaner CFR1 500ML   1.0  NaN  3000   \n",
       "\n",
       "  BUn    Unrestricted  Transit/Transf.          Blocked   In Qual. Insp.  \\\n",
       "0  PC               2              0.0              0.0              0.0   \n",
       "1  PC               6              0.0              0.0              0.0   \n",
       "2  PC               1              0.0              0.0              0.0   \n",
       "3  PC               1              0.0              0.0              0.0   \n",
       "4  PC               5              0.0              5.0              0.0   \n",
       "\n",
       "    Restricted-Use          Returns   Stk in Transit  \n",
       "0                0                0              0.0  \n",
       "1                0                0              0.0  \n",
       "2                0                0              0.0  \n",
       "3                0                0              0.0  \n",
       "4                0                0              0.0  "
      ]
     },
     "execution_count": 40,
     "metadata": {},
     "output_type": "execute_result"
    }
   ],
   "source": [
    "df_stock = pd.read_csv(stock_file_path, sep='\\t', skiprows=1, encoding='latin1')\n",
    "df_stock.head()"
   ]
  },
  {
   "cell_type": "code",
   "execution_count": 41,
   "metadata": {},
   "outputs": [],
   "source": [
    "unnamed_columns = [col for col in df_stock.columns if 'Unnamed:' in col]\n",
    "df_stock.drop(columns=unnamed_columns, inplace=True)\n"
   ]
  },
  {
   "cell_type": "code",
   "execution_count": 42,
   "metadata": {},
   "outputs": [
    {
     "data": {
      "text/html": [
       "<div>\n",
       "<style scoped>\n",
       "    .dataframe tbody tr th:only-of-type {\n",
       "        vertical-align: middle;\n",
       "    }\n",
       "\n",
       "    .dataframe tbody tr th {\n",
       "        vertical-align: top;\n",
       "    }\n",
       "\n",
       "    .dataframe thead th {\n",
       "        text-align: right;\n",
       "    }\n",
       "</style>\n",
       "<table border=\"1\" class=\"dataframe\">\n",
       "  <thead>\n",
       "    <tr style=\"text-align: right;\">\n",
       "      <th></th>\n",
       "      <th>Material</th>\n",
       "      <th>Material Description</th>\n",
       "      <th>SLoc</th>\n",
       "      <th>SL</th>\n",
       "      <th>Plnt</th>\n",
       "      <th>BUn</th>\n",
       "      <th>Unrestricted</th>\n",
       "      <th>Transit/Transf.</th>\n",
       "      <th>Blocked</th>\n",
       "      <th>In Qual. Insp.</th>\n",
       "      <th>Restricted-Use</th>\n",
       "      <th>Returns</th>\n",
       "      <th>Stk in Transit</th>\n",
       "    </tr>\n",
       "  </thead>\n",
       "  <tbody>\n",
       "    <tr>\n",
       "      <th>0</th>\n",
       "      <td>1954</td>\n",
       "      <td>Drill bit extension TE-FY-E85</td>\n",
       "      <td>1.0</td>\n",
       "      <td>NaN</td>\n",
       "      <td>3000</td>\n",
       "      <td>PC</td>\n",
       "      <td>2</td>\n",
       "      <td>0.0</td>\n",
       "      <td>0.0</td>\n",
       "      <td>0.0</td>\n",
       "      <td>0</td>\n",
       "      <td>0</td>\n",
       "      <td>0.0</td>\n",
       "    </tr>\n",
       "    <tr>\n",
       "      <th>1</th>\n",
       "      <td>1954</td>\n",
       "      <td>Drill bit extension TE-FY-E85</td>\n",
       "      <td>1.0</td>\n",
       "      <td>NaN</td>\n",
       "      <td>8750</td>\n",
       "      <td>PC</td>\n",
       "      <td>6</td>\n",
       "      <td>0.0</td>\n",
       "      <td>0.0</td>\n",
       "      <td>0.0</td>\n",
       "      <td>0</td>\n",
       "      <td>0</td>\n",
       "      <td>0.0</td>\n",
       "    </tr>\n",
       "    <tr>\n",
       "      <th>2</th>\n",
       "      <td>3730</td>\n",
       "      <td>Piston ring</td>\n",
       "      <td>1.0</td>\n",
       "      <td>NaN</td>\n",
       "      <td>3000</td>\n",
       "      <td>PC</td>\n",
       "      <td>1</td>\n",
       "      <td>0.0</td>\n",
       "      <td>0.0</td>\n",
       "      <td>0.0</td>\n",
       "      <td>0</td>\n",
       "      <td>0</td>\n",
       "      <td>0.0</td>\n",
       "    </tr>\n",
       "    <tr>\n",
       "      <th>3</th>\n",
       "      <td>7743</td>\n",
       "      <td>Marking character X-MC S 8/10 0-9</td>\n",
       "      <td>1.0</td>\n",
       "      <td>NaN</td>\n",
       "      <td>3000</td>\n",
       "      <td>PC</td>\n",
       "      <td>1</td>\n",
       "      <td>0.0</td>\n",
       "      <td>0.0</td>\n",
       "      <td>0.0</td>\n",
       "      <td>0</td>\n",
       "      <td>0</td>\n",
       "      <td>0.0</td>\n",
       "    </tr>\n",
       "    <tr>\n",
       "      <th>4</th>\n",
       "      <td>24631</td>\n",
       "      <td>Cleaner CFR1 500ML</td>\n",
       "      <td>1.0</td>\n",
       "      <td>NaN</td>\n",
       "      <td>3000</td>\n",
       "      <td>PC</td>\n",
       "      <td>5</td>\n",
       "      <td>0.0</td>\n",
       "      <td>5.0</td>\n",
       "      <td>0.0</td>\n",
       "      <td>0</td>\n",
       "      <td>0</td>\n",
       "      <td>0.0</td>\n",
       "    </tr>\n",
       "  </tbody>\n",
       "</table>\n",
       "</div>"
      ],
      "text/plain": [
       "   Material               Material Description  SLoc   SL  Plnt BUn  \\\n",
       "0      1954      Drill bit extension TE-FY-E85   1.0  NaN  3000  PC   \n",
       "1      1954      Drill bit extension TE-FY-E85   1.0  NaN  8750  PC   \n",
       "2      3730                        Piston ring   1.0  NaN  3000  PC   \n",
       "3      7743  Marking character X-MC S 8/10 0-9   1.0  NaN  3000  PC   \n",
       "4     24631                 Cleaner CFR1 500ML   1.0  NaN  3000  PC   \n",
       "\n",
       "     Unrestricted  Transit/Transf.          Blocked   In Qual. Insp.  \\\n",
       "0               2              0.0              0.0              0.0   \n",
       "1               6              0.0              0.0              0.0   \n",
       "2               1              0.0              0.0              0.0   \n",
       "3               1              0.0              0.0              0.0   \n",
       "4               5              0.0              5.0              0.0   \n",
       "\n",
       "    Restricted-Use          Returns   Stk in Transit  \n",
       "0                0                0              0.0  \n",
       "1                0                0              0.0  \n",
       "2                0                0              0.0  \n",
       "3                0                0              0.0  \n",
       "4                0                0              0.0  "
      ]
     },
     "execution_count": 42,
     "metadata": {},
     "output_type": "execute_result"
    }
   ],
   "source": [
    "df_stock.head()"
   ]
  },
  {
   "cell_type": "code",
   "execution_count": 43,
   "metadata": {},
   "outputs": [
    {
     "data": {
      "text/plain": [
       "['Material',\n",
       " 'Material Description',\n",
       " 'SLoc',\n",
       " 'SL',\n",
       " 'Plnt',\n",
       " 'BUn',\n",
       " '   Unrestricted',\n",
       " 'Transit/Transf.',\n",
       " '        Blocked',\n",
       " ' In Qual. Insp.',\n",
       " ' Restricted-Use',\n",
       " '        Returns',\n",
       " ' Stk in Transit']"
      ]
     },
     "execution_count": 43,
     "metadata": {},
     "output_type": "execute_result"
    }
   ],
   "source": [
    "column_titles = df_stock.columns.tolist()\n",
    "column_titles"
   ]
  },
  {
   "cell_type": "code",
   "execution_count": 44,
   "metadata": {},
   "outputs": [],
   "source": [
    "new_column_titles = {col: col.strip().replace(' ', '_').replace('/','_').replace('-','_').replace('.','') for col in column_titles}"
   ]
  },
  {
   "cell_type": "code",
   "execution_count": 45,
   "metadata": {},
   "outputs": [],
   "source": [
    "df_stock.rename(columns=new_column_titles, inplace=True)"
   ]
  },
  {
   "cell_type": "code",
   "execution_count": 46,
   "metadata": {},
   "outputs": [
    {
     "data": {
      "text/plain": [
       "['Material',\n",
       " 'Material_Description',\n",
       " 'SLoc',\n",
       " 'SL',\n",
       " 'Plnt',\n",
       " 'BUn',\n",
       " 'Unrestricted',\n",
       " 'Transit_Transf',\n",
       " 'Blocked',\n",
       " 'In_Qual_Insp',\n",
       " 'Restricted_Use',\n",
       " 'Returns',\n",
       " 'Stk_in_Transit']"
      ]
     },
     "execution_count": 46,
     "metadata": {},
     "output_type": "execute_result"
    }
   ],
   "source": [
    "df_stock.columns.tolist()"
   ]
  },
  {
   "cell_type": "code",
   "execution_count": 47,
   "metadata": {},
   "outputs": [],
   "source": [
    "df_stock['Material'] = df_stock['Material'].fillna(0).astype(int).astype(str).str.strip()\n",
    "df_stock['Material_Description'] = df_stock['Material_Description'].astype(str).str.strip()\n",
    "df_stock['SLoc'] = df_stock['SLoc'].fillna(0).astype(int).astype(str).str.strip()\n",
    "df_stock['SL'] = df_stock['SL'].astype(str).str.strip()\n",
    "df_stock['Plnt'] = df_stock['Plnt'].fillna(0).astype(int).astype(str).str.strip()\n",
    "df_stock['BUn'] = df_stock['BUn'].astype(str).str.strip()\n",
    "df_stock['Unrestricted'] = df_stock['Unrestricted'].astype(str).str.strip().str.replace('.', '').str.replace(',', '.').astype(float)\n",
    "df_stock['Transit_Transf'] = df_stock['Transit_Transf'].astype(str).str.strip().str.replace('.', '').str.replace(',', '.').astype(float)\n",
    "df_stock['Blocked'] = df_stock['Blocked'].astype(str).str.strip().str.replace('.', '').str.replace(',', '.').astype(float)\n",
    "df_stock['In_Qual_Insp'] = df_stock['In_Qual_Insp'].astype(str).str.strip().str.replace('.', '').str.replace(',', '.').astype(float)\n",
    "df_stock['Restricted_Use'] = df_stock['Restricted_Use'].astype(str).str.strip().str.replace('.', '').str.replace(',', '.').astype(float)\n",
    "df_stock['Returns'] = df_stock['Returns'].astype(str).str.strip().str.replace('.', '').str.replace(',', '.').astype(float)\n",
    "df_stock['Stk_in_Transit'] = df_stock['Stk_in_Transit'].astype(str).str.strip().str.replace('.', '').str.replace(',', '.').astype(float)"
   ]
  },
  {
   "cell_type": "code",
   "execution_count": 48,
   "metadata": {},
   "outputs": [],
   "source": [
    "df_stock['Unrestricted'] = pd.to_numeric(df_stock['Unrestricted'], errors='coerce')"
   ]
  },
  {
   "cell_type": "code",
   "execution_count": 49,
   "metadata": {},
   "outputs": [],
   "source": [
    "plant_to_sorg = {\n",
    "    \"8750\": \"8750\", \"8760\": \"8750\",\n",
    "    \"8330\": \"8300\", \"8302\": \"8300\",\n",
    "    \"8650\": \"8650\", \"8663\": \"8650\", \"8655\": \"8650\", \"8658\": \"8650\", \"8662\": \"8650\", \"8651\": \"8650\",\n",
    "    \"3000\": \"3000\", \"3002\": \"3000\", \"3010\": \"3000\", \"3014\": \"3000\", \"3016\": \"3000\", \"3018\": \"3000\", \"3022\": \"3000\"\n",
    "}"
   ]
  },
  {
   "cell_type": "code",
   "execution_count": 50,
   "metadata": {},
   "outputs": [],
   "source": [
    "def map_plant_to_sorg(plant):\n",
    "    return plant_to_sorg.get(plant, None)"
   ]
  },
  {
   "cell_type": "code",
   "execution_count": 51,
   "metadata": {},
   "outputs": [],
   "source": [
    "df_stock['Sorg'] = df_stock['Plnt'].map(map_plant_to_sorg)"
   ]
  },
  {
   "cell_type": "code",
   "execution_count": 52,
   "metadata": {},
   "outputs": [],
   "source": [
    "df_stock['key_material'] = df_stock['Sorg'] + '/' + df_stock['Material']\n",
    "df_stock['key_material'] = df_stock['key_material'].astype(str).str.strip()\n"
   ]
  },
  {
   "cell_type": "code",
   "execution_count": 53,
   "metadata": {},
   "outputs": [
    {
     "name": "stdout",
     "output_type": "stream",
     "text": [
      "current user is: SEPUJAS\n"
     ]
    }
   ],
   "source": [
    "current_user = os.getlogin()\n",
    "print(f\"current user is: {current_user}\")"
   ]
  },
  {
   "cell_type": "code",
   "execution_count": null,
   "metadata": {},
   "outputs": [],
   "source": []
  },
  {
   "cell_type": "code",
   "execution_count": 54,
   "metadata": {},
   "outputs": [],
   "source": [
    "df_stock.to_csv(stock_uploaded_path, index=False, encoding='latin1')"
   ]
  },
  {
   "cell_type": "code",
   "execution_count": null,
   "metadata": {},
   "outputs": [],
   "source": []
  }
 ],
 "metadata": {
  "kernelspec": {
   "display_name": ".venv",
   "language": "python",
   "name": "python3"
  },
  "language_info": {
   "codemirror_mode": {
    "name": "ipython",
    "version": 3
   },
   "file_extension": ".py",
   "mimetype": "text/x-python",
   "name": "python",
   "nbconvert_exporter": "python",
   "pygments_lexer": "ipython3",
   "version": "3.12.4"
  }
 },
 "nbformat": 4,
 "nbformat_minor": 2
}
