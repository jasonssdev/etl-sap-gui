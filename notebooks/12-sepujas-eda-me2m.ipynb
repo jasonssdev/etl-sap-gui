{
 "cells": [
  {
   "cell_type": "code",
   "execution_count": 1,
   "metadata": {},
   "outputs": [],
   "source": [
    "import pandas as pd\n",
    "import os"
   ]
  },
  {
   "cell_type": "code",
   "execution_count": 2,
   "metadata": {},
   "outputs": [
    {
     "name": "stdout",
     "output_type": "stream",
     "text": [
      "c:\\Users\\sepujas\\Dev\\mat\\notebooks\n"
     ]
    }
   ],
   "source": [
    "current_path = os.getcwd()\n",
    "print(current_path)"
   ]
  },
  {
   "cell_type": "code",
   "execution_count": 3,
   "metadata": {},
   "outputs": [
    {
     "name": "stdout",
     "output_type": "stream",
     "text": [
      "c:\\Users\\sepujas\\Dev\\mat\n"
     ]
    }
   ],
   "source": [
    "base_path = os.path.abspath(os.path.join(current_path, os.pardir))\n",
    "print(base_path)"
   ]
  },
  {
   "cell_type": "code",
   "execution_count": 4,
   "metadata": {},
   "outputs": [
    {
     "name": "stdout",
     "output_type": "stream",
     "text": [
      "c:\\Users\\sepujas\\Dev\\mat\\data\\raw\\tbl_me2m.txt\n"
     ]
    }
   ],
   "source": [
    "me2m_file_path = os.path.join(base_path, 'data', 'raw', 'tbl_me2m.txt')\n",
    "print(me2m_file_path)"
   ]
  },
  {
   "cell_type": "code",
   "execution_count": 5,
   "metadata": {},
   "outputs": [
    {
     "name": "stdout",
     "output_type": "stream",
     "text": [
      "c:\\Users\\sepujas\\Dev\\mat\\data\\preprocessed\\tbl_me2m.csv\n"
     ]
    }
   ],
   "source": [
    "me2m_preprocessed_path = os.path.join(base_path, 'data', 'preprocessed', 'tbl_me2m.csv')\n",
    "print(me2m_preprocessed_path)"
   ]
  },
  {
   "cell_type": "code",
   "execution_count": 6,
   "metadata": {},
   "outputs": [],
   "source": [
    "df_me2m = pd.read_csv(me2m_file_path, sep='\\t', skiprows=3, encoding='latin1')"
   ]
  },
  {
   "cell_type": "code",
   "execution_count": 7,
   "metadata": {},
   "outputs": [
    {
     "data": {
      "text/html": [
       "<div>\n",
       "<style scoped>\n",
       "    .dataframe tbody tr th:only-of-type {\n",
       "        vertical-align: middle;\n",
       "    }\n",
       "\n",
       "    .dataframe tbody tr th {\n",
       "        vertical-align: top;\n",
       "    }\n",
       "\n",
       "    .dataframe thead th {\n",
       "        text-align: right;\n",
       "    }\n",
       "</style>\n",
       "<table border=\"1\" class=\"dataframe\">\n",
       "  <thead>\n",
       "    <tr style=\"text-align: right;\">\n",
       "      <th></th>\n",
       "      <th>Unnamed: 0</th>\n",
       "      <th>POrg</th>\n",
       "      <th>Plnt</th>\n",
       "      <th>SLoc</th>\n",
       "      <th>Material</th>\n",
       "      <th>Type</th>\n",
       "      <th>Doc. Date</th>\n",
       "      <th>Supplier</th>\n",
       "      <th>Pur. Doc.</th>\n",
       "      <th>Quantity</th>\n",
       "      <th>...</th>\n",
       "      <th>Quantity.1</th>\n",
       "      <th>SKU</th>\n",
       "      <th>PGr</th>\n",
       "      <th>Net Price</th>\n",
       "      <th>Crcy</th>\n",
       "      <th>Per</th>\n",
       "      <th>To be del.</th>\n",
       "      <th>To be del.</th>\n",
       "      <th>To be inv.</th>\n",
       "      <th>To be inv.</th>\n",
       "    </tr>\n",
       "  </thead>\n",
       "  <tbody>\n",
       "    <tr>\n",
       "      <th>0</th>\n",
       "      <td>NaN</td>\n",
       "      <td>8300</td>\n",
       "      <td>8330</td>\n",
       "      <td>1.0</td>\n",
       "      <td>2203491.0</td>\n",
       "      <td>NB</td>\n",
       "      <td>13.09.2024</td>\n",
       "      <td>9999       HILTI</td>\n",
       "      <td>4537359685</td>\n",
       "      <td>3.000</td>\n",
       "      <td>...</td>\n",
       "      <td>3.000</td>\n",
       "      <td>M</td>\n",
       "      <td>L11</td>\n",
       "      <td>48,84</td>\n",
       "      <td>USD</td>\n",
       "      <td>1.0</td>\n",
       "      <td>3.000</td>\n",
       "      <td>146.520,00</td>\n",
       "      <td>0</td>\n",
       "      <td>0,00</td>\n",
       "    </tr>\n",
       "    <tr>\n",
       "      <th>1</th>\n",
       "      <td>NaN</td>\n",
       "      <td>8300</td>\n",
       "      <td>8330</td>\n",
       "      <td>1.0</td>\n",
       "      <td>2203546.0</td>\n",
       "      <td>NB</td>\n",
       "      <td>13.09.2024</td>\n",
       "      <td>9999       HILTI</td>\n",
       "      <td>4537359687</td>\n",
       "      <td>25.250</td>\n",
       "      <td>...</td>\n",
       "      <td>25.250</td>\n",
       "      <td>PC</td>\n",
       "      <td>L11</td>\n",
       "      <td>31,47</td>\n",
       "      <td>USD</td>\n",
       "      <td>100.0</td>\n",
       "      <td>25.250</td>\n",
       "      <td>7.946,18</td>\n",
       "      <td>0</td>\n",
       "      <td>0,00</td>\n",
       "    </tr>\n",
       "    <tr>\n",
       "      <th>2</th>\n",
       "      <td>NaN</td>\n",
       "      <td>8300</td>\n",
       "      <td>8330</td>\n",
       "      <td>1.0</td>\n",
       "      <td>2208751.0</td>\n",
       "      <td>NB</td>\n",
       "      <td>13.09.2024</td>\n",
       "      <td>9999       HILTI</td>\n",
       "      <td>4537359689</td>\n",
       "      <td>62.350</td>\n",
       "      <td>...</td>\n",
       "      <td>62.350</td>\n",
       "      <td>PC</td>\n",
       "      <td>L11</td>\n",
       "      <td>7,34</td>\n",
       "      <td>USD</td>\n",
       "      <td>10.0</td>\n",
       "      <td>62.350</td>\n",
       "      <td>45.764,90</td>\n",
       "      <td>0</td>\n",
       "      <td>0,00</td>\n",
       "    </tr>\n",
       "    <tr>\n",
       "      <th>3</th>\n",
       "      <td>NaN</td>\n",
       "      <td>8300</td>\n",
       "      <td>8330</td>\n",
       "      <td>1.0</td>\n",
       "      <td>2238428.0</td>\n",
       "      <td>NB</td>\n",
       "      <td>13.09.2024</td>\n",
       "      <td>9999       HILTI</td>\n",
       "      <td>4537359691</td>\n",
       "      <td>1.500</td>\n",
       "      <td>...</td>\n",
       "      <td>1.500</td>\n",
       "      <td>PC</td>\n",
       "      <td>L11</td>\n",
       "      <td>33,71</td>\n",
       "      <td>USD</td>\n",
       "      <td>1.0</td>\n",
       "      <td>1.500</td>\n",
       "      <td>50.565,00</td>\n",
       "      <td>0</td>\n",
       "      <td>0,00</td>\n",
       "    </tr>\n",
       "    <tr>\n",
       "      <th>4</th>\n",
       "      <td>NaN</td>\n",
       "      <td>8300</td>\n",
       "      <td>8330</td>\n",
       "      <td>1.0</td>\n",
       "      <td>2203491.0</td>\n",
       "      <td>NB</td>\n",
       "      <td>13.09.2024</td>\n",
       "      <td>9999       HILTI</td>\n",
       "      <td>4537359693</td>\n",
       "      <td>690</td>\n",
       "      <td>...</td>\n",
       "      <td>690</td>\n",
       "      <td>M</td>\n",
       "      <td>L11</td>\n",
       "      <td>48,84</td>\n",
       "      <td>USD</td>\n",
       "      <td>1.0</td>\n",
       "      <td>690</td>\n",
       "      <td>33.699,60</td>\n",
       "      <td>0</td>\n",
       "      <td>0,00</td>\n",
       "    </tr>\n",
       "  </tbody>\n",
       "</table>\n",
       "<p>5 rows × 21 columns</p>\n",
       "</div>"
      ],
      "text/plain": [
       "   Unnamed: 0  POrg  Plnt  SLoc   Material Type   Doc. Date          Supplier  \\\n",
       "0         NaN  8300  8330   1.0  2203491.0   NB  13.09.2024  9999       HILTI   \n",
       "1         NaN  8300  8330   1.0  2203546.0   NB  13.09.2024  9999       HILTI   \n",
       "2         NaN  8300  8330   1.0  2208751.0   NB  13.09.2024  9999       HILTI   \n",
       "3         NaN  8300  8330   1.0  2238428.0   NB  13.09.2024  9999       HILTI   \n",
       "4         NaN  8300  8330   1.0  2203491.0   NB  13.09.2024  9999       HILTI   \n",
       "\n",
       "    Pur. Doc. Quantity  ... Quantity.1 SKU  PGr      Net Price Crcy     Per  \\\n",
       "0  4537359685    3.000  ...      3.000   M  L11          48,84  USD     1.0   \n",
       "1  4537359687   25.250  ...     25.250  PC  L11          31,47  USD   100.0   \n",
       "2  4537359689   62.350  ...     62.350  PC  L11           7,34  USD    10.0   \n",
       "3  4537359691    1.500  ...      1.500  PC  L11          33,71  USD     1.0   \n",
       "4  4537359693      690  ...        690   M  L11          48,84  USD     1.0   \n",
       "\n",
       "     To be del.        To be del.   To be inv.        To be inv.  \n",
       "0         3.000        146.520,00            0              0,00  \n",
       "1        25.250          7.946,18            0              0,00  \n",
       "2        62.350         45.764,90            0              0,00  \n",
       "3         1.500         50.565,00            0              0,00  \n",
       "4           690         33.699,60            0              0,00  \n",
       "\n",
       "[5 rows x 21 columns]"
      ]
     },
     "execution_count": 7,
     "metadata": {},
     "output_type": "execute_result"
    }
   ],
   "source": [
    "df_me2m.head()"
   ]
  },
  {
   "cell_type": "code",
   "execution_count": 8,
   "metadata": {},
   "outputs": [],
   "source": [
    "unnamed_columns = [col for col in df_me2m.columns if 'Unnamed:' in col]\n",
    "df_me2m.drop(columns=unnamed_columns, inplace=True)\n",
    "column_titles = df_me2m.columns.tolist()\n",
    "new_column_titles = {col: col.strip().replace(' ', '_').replace('-','_').replace('.','') for col in column_titles}\n",
    "df_me2m.rename(columns=new_column_titles, inplace=True)"
   ]
  },
  {
   "cell_type": "code",
   "execution_count": 9,
   "metadata": {},
   "outputs": [],
   "source": [
    "column_counts = df_me2m.columns.value_counts()\n",
    "duplicate_columns = column_counts[column_counts > 1].index"
   ]
  },
  {
   "cell_type": "code",
   "execution_count": 10,
   "metadata": {},
   "outputs": [],
   "source": [
    "for col in duplicate_columns:\n",
    "    col_indices = [i for i, x in enumerate(df_me2m.columns) if x == col]\n",
    "    for j, index in enumerate(col_indices):\n",
    "        df_me2m.columns.values[index] = f\"{col}_{j+1}\""
   ]
  },
  {
   "cell_type": "code",
   "execution_count": 11,
   "metadata": {},
   "outputs": [
    {
     "data": {
      "text/plain": [
       "['POrg',\n",
       " 'Plnt',\n",
       " 'SLoc',\n",
       " 'Material',\n",
       " 'Type',\n",
       " 'Doc_Date',\n",
       " 'Supplier',\n",
       " 'Pur_Doc',\n",
       " 'Quantity',\n",
       " 'OUn',\n",
       " 'Quantity1',\n",
       " 'SKU',\n",
       " 'PGr',\n",
       " 'Net_Price',\n",
       " 'Crcy',\n",
       " 'Per',\n",
       " 'To_be_del_1',\n",
       " 'To_be_del_2',\n",
       " 'To_be_inv_1',\n",
       " 'To_be_inv_2']"
      ]
     },
     "execution_count": 11,
     "metadata": {},
     "output_type": "execute_result"
    }
   ],
   "source": [
    "df_me2m.columns.tolist()"
   ]
  },
  {
   "cell_type": "code",
   "execution_count": 12,
   "metadata": {},
   "outputs": [
    {
     "data": {
      "text/plain": [
       "POrg             int64\n",
       "Plnt             int64\n",
       "SLoc           float64\n",
       "Material       float64\n",
       "Type            object\n",
       "Doc_Date        object\n",
       "Supplier        object\n",
       "Pur_Doc          int64\n",
       "Quantity        object\n",
       "OUn             object\n",
       "Quantity1       object\n",
       "SKU             object\n",
       "PGr             object\n",
       "Net_Price       object\n",
       "Crcy            object\n",
       "Per            float64\n",
       "To_be_del_1     object\n",
       "To_be_del_2     object\n",
       "To_be_inv_1     object\n",
       "To_be_inv_2     object\n",
       "dtype: object"
      ]
     },
     "execution_count": 12,
     "metadata": {},
     "output_type": "execute_result"
    }
   ],
   "source": [
    "df_me2m.dtypes"
   ]
  },
  {
   "cell_type": "code",
   "execution_count": 13,
   "metadata": {},
   "outputs": [],
   "source": [
    "def transform_columns(df):\n",
    "    str_columns = [\n",
    "        'Type', 'Supplier', 'OUn', 'SKU', 'PGr', 'Crcy']\n",
    "    for col in str_columns:\n",
    "        df[col] = df[col].astype(str).str.strip()\n",
    "\n",
    "    numeric_columns = ['POrg', 'Plnt', 'SLoc', 'Material', 'Pur_Doc']\n",
    "    for col in numeric_columns:\n",
    "        df[col] = pd.to_numeric(df[col], errors='coerce').fillna(0).astype(int).astype(str)\n",
    "\n",
    "    df['Quantity'] = df['Quantity'].astype(str).str.replace('.', '').str.replace(',', '.').astype(float)\n",
    "    df['Quantity1'] = df['Quantity1'].astype(str).str.replace('.', '').str.replace(',', '.').astype(float)\n",
    "    df['Net_Price'] = df['Net_Price'].astype(str).str.replace('.', '').str.replace(',', '.').astype(float)\n",
    "    df['To_be_del_1'] = df['To_be_del_1'].astype(str).str.replace('.', '').str.replace(',', '.').astype(float)\n",
    "    df['To_be_del_2'] = df['To_be_del_2'].astype(str).str.replace('.', '').str.replace(',', '.').astype(float)\n",
    "    df['To_be_inv_1'] = df['To_be_inv_1'].astype(str).str.replace('.', '').str.replace(',', '.').astype(float)\n",
    "    df['To_be_inv_2'] = df['To_be_inv_2'].astype(str).str.replace('.', '').str.replace(',', '.').astype(float)\n",
    "\n",
    "    date_columns = ['Doc_Date']\n",
    "    for col in date_columns:\n",
    "        df[col] = pd.to_datetime(df[col], errors=\"coerce\", format='%d.%m.%Y')\n",
    "\n",
    "transform_columns(df_me2m)"
   ]
  },
  {
   "cell_type": "code",
   "execution_count": 14,
   "metadata": {},
   "outputs": [
    {
     "data": {
      "text/html": [
       "<div>\n",
       "<style scoped>\n",
       "    .dataframe tbody tr th:only-of-type {\n",
       "        vertical-align: middle;\n",
       "    }\n",
       "\n",
       "    .dataframe tbody tr th {\n",
       "        vertical-align: top;\n",
       "    }\n",
       "\n",
       "    .dataframe thead th {\n",
       "        text-align: right;\n",
       "    }\n",
       "</style>\n",
       "<table border=\"1\" class=\"dataframe\">\n",
       "  <thead>\n",
       "    <tr style=\"text-align: right;\">\n",
       "      <th></th>\n",
       "      <th>POrg</th>\n",
       "      <th>Plnt</th>\n",
       "      <th>SLoc</th>\n",
       "      <th>Material</th>\n",
       "      <th>Type</th>\n",
       "      <th>Doc_Date</th>\n",
       "      <th>Supplier</th>\n",
       "      <th>Pur_Doc</th>\n",
       "      <th>Quantity</th>\n",
       "      <th>OUn</th>\n",
       "      <th>Quantity1</th>\n",
       "      <th>SKU</th>\n",
       "      <th>PGr</th>\n",
       "      <th>Net_Price</th>\n",
       "      <th>Crcy</th>\n",
       "      <th>Per</th>\n",
       "      <th>To_be_del_1</th>\n",
       "      <th>To_be_del_2</th>\n",
       "      <th>To_be_inv_1</th>\n",
       "      <th>To_be_inv_2</th>\n",
       "    </tr>\n",
       "  </thead>\n",
       "  <tbody>\n",
       "    <tr>\n",
       "      <th>0</th>\n",
       "      <td>8300</td>\n",
       "      <td>8330</td>\n",
       "      <td>1</td>\n",
       "      <td>2203491</td>\n",
       "      <td>NB</td>\n",
       "      <td>2024-09-13</td>\n",
       "      <td>9999       HILTI</td>\n",
       "      <td>4537359685</td>\n",
       "      <td>3000.0</td>\n",
       "      <td>M</td>\n",
       "      <td>3000.0</td>\n",
       "      <td>M</td>\n",
       "      <td>L11</td>\n",
       "      <td>48.84</td>\n",
       "      <td>USD</td>\n",
       "      <td>1.0</td>\n",
       "      <td>3000.0</td>\n",
       "      <td>146520.00</td>\n",
       "      <td>0.0</td>\n",
       "      <td>0.0</td>\n",
       "    </tr>\n",
       "    <tr>\n",
       "      <th>1</th>\n",
       "      <td>8300</td>\n",
       "      <td>8330</td>\n",
       "      <td>1</td>\n",
       "      <td>2203546</td>\n",
       "      <td>NB</td>\n",
       "      <td>2024-09-13</td>\n",
       "      <td>9999       HILTI</td>\n",
       "      <td>4537359687</td>\n",
       "      <td>25250.0</td>\n",
       "      <td>PC</td>\n",
       "      <td>25250.0</td>\n",
       "      <td>PC</td>\n",
       "      <td>L11</td>\n",
       "      <td>31.47</td>\n",
       "      <td>USD</td>\n",
       "      <td>100.0</td>\n",
       "      <td>25250.0</td>\n",
       "      <td>7946.18</td>\n",
       "      <td>0.0</td>\n",
       "      <td>0.0</td>\n",
       "    </tr>\n",
       "    <tr>\n",
       "      <th>2</th>\n",
       "      <td>8300</td>\n",
       "      <td>8330</td>\n",
       "      <td>1</td>\n",
       "      <td>2208751</td>\n",
       "      <td>NB</td>\n",
       "      <td>2024-09-13</td>\n",
       "      <td>9999       HILTI</td>\n",
       "      <td>4537359689</td>\n",
       "      <td>62350.0</td>\n",
       "      <td>PC</td>\n",
       "      <td>62350.0</td>\n",
       "      <td>PC</td>\n",
       "      <td>L11</td>\n",
       "      <td>7.34</td>\n",
       "      <td>USD</td>\n",
       "      <td>10.0</td>\n",
       "      <td>62350.0</td>\n",
       "      <td>45764.90</td>\n",
       "      <td>0.0</td>\n",
       "      <td>0.0</td>\n",
       "    </tr>\n",
       "    <tr>\n",
       "      <th>3</th>\n",
       "      <td>8300</td>\n",
       "      <td>8330</td>\n",
       "      <td>1</td>\n",
       "      <td>2238428</td>\n",
       "      <td>NB</td>\n",
       "      <td>2024-09-13</td>\n",
       "      <td>9999       HILTI</td>\n",
       "      <td>4537359691</td>\n",
       "      <td>1500.0</td>\n",
       "      <td>PC</td>\n",
       "      <td>1500.0</td>\n",
       "      <td>PC</td>\n",
       "      <td>L11</td>\n",
       "      <td>33.71</td>\n",
       "      <td>USD</td>\n",
       "      <td>1.0</td>\n",
       "      <td>1500.0</td>\n",
       "      <td>50565.00</td>\n",
       "      <td>0.0</td>\n",
       "      <td>0.0</td>\n",
       "    </tr>\n",
       "    <tr>\n",
       "      <th>4</th>\n",
       "      <td>8300</td>\n",
       "      <td>8330</td>\n",
       "      <td>1</td>\n",
       "      <td>2203491</td>\n",
       "      <td>NB</td>\n",
       "      <td>2024-09-13</td>\n",
       "      <td>9999       HILTI</td>\n",
       "      <td>4537359693</td>\n",
       "      <td>690.0</td>\n",
       "      <td>M</td>\n",
       "      <td>690.0</td>\n",
       "      <td>M</td>\n",
       "      <td>L11</td>\n",
       "      <td>48.84</td>\n",
       "      <td>USD</td>\n",
       "      <td>1.0</td>\n",
       "      <td>690.0</td>\n",
       "      <td>33699.60</td>\n",
       "      <td>0.0</td>\n",
       "      <td>0.0</td>\n",
       "    </tr>\n",
       "  </tbody>\n",
       "</table>\n",
       "</div>"
      ],
      "text/plain": [
       "   POrg  Plnt SLoc Material Type   Doc_Date          Supplier     Pur_Doc  \\\n",
       "0  8300  8330    1  2203491   NB 2024-09-13  9999       HILTI  4537359685   \n",
       "1  8300  8330    1  2203546   NB 2024-09-13  9999       HILTI  4537359687   \n",
       "2  8300  8330    1  2208751   NB 2024-09-13  9999       HILTI  4537359689   \n",
       "3  8300  8330    1  2238428   NB 2024-09-13  9999       HILTI  4537359691   \n",
       "4  8300  8330    1  2203491   NB 2024-09-13  9999       HILTI  4537359693   \n",
       "\n",
       "   Quantity OUn  Quantity1 SKU  PGr  Net_Price Crcy    Per  To_be_del_1  \\\n",
       "0    3000.0   M     3000.0   M  L11      48.84  USD    1.0       3000.0   \n",
       "1   25250.0  PC    25250.0  PC  L11      31.47  USD  100.0      25250.0   \n",
       "2   62350.0  PC    62350.0  PC  L11       7.34  USD   10.0      62350.0   \n",
       "3    1500.0  PC     1500.0  PC  L11      33.71  USD    1.0       1500.0   \n",
       "4     690.0   M      690.0   M  L11      48.84  USD    1.0        690.0   \n",
       "\n",
       "   To_be_del_2  To_be_inv_1  To_be_inv_2  \n",
       "0    146520.00          0.0          0.0  \n",
       "1      7946.18          0.0          0.0  \n",
       "2     45764.90          0.0          0.0  \n",
       "3     50565.00          0.0          0.0  \n",
       "4     33699.60          0.0          0.0  "
      ]
     },
     "execution_count": 14,
     "metadata": {},
     "output_type": "execute_result"
    }
   ],
   "source": [
    "df_me2m.head()"
   ]
  },
  {
   "cell_type": "code",
   "execution_count": 15,
   "metadata": {},
   "outputs": [
    {
     "data": {
      "text/plain": [
       "POrg                   object\n",
       "Plnt                   object\n",
       "SLoc                   object\n",
       "Material               object\n",
       "Type                   object\n",
       "Doc_Date       datetime64[ns]\n",
       "Supplier               object\n",
       "Pur_Doc                object\n",
       "Quantity              float64\n",
       "OUn                    object\n",
       "Quantity1             float64\n",
       "SKU                    object\n",
       "PGr                    object\n",
       "Net_Price             float64\n",
       "Crcy                   object\n",
       "Per                   float64\n",
       "To_be_del_1           float64\n",
       "To_be_del_2           float64\n",
       "To_be_inv_1           float64\n",
       "To_be_inv_2           float64\n",
       "dtype: object"
      ]
     },
     "execution_count": 15,
     "metadata": {},
     "output_type": "execute_result"
    }
   ],
   "source": [
    "df_me2m.dtypes"
   ]
  },
  {
   "cell_type": "code",
   "execution_count": 16,
   "metadata": {},
   "outputs": [],
   "source": [
    "df_me2m['key_plant'] = df_me2m['Plnt'] + '/' + df_me2m['Material']\n",
    "df_me2m['key_plant'] = df_me2m['key_plant'].astype(str).str.strip()\n",
    "df_me2m['key_material'] = df_me2m['POrg'] + '/' + df_me2m['Material']\n",
    "df_me2m['key_material'] = df_me2m['key_material'].astype(str).str.strip()"
   ]
  },
  {
   "cell_type": "code",
   "execution_count": 17,
   "metadata": {},
   "outputs": [],
   "source": [
    "df_me2m.to_csv(me2m_preprocessed_path, index=False, sep='|')"
   ]
  },
  {
   "cell_type": "code",
   "execution_count": 18,
   "metadata": {},
   "outputs": [
    {
     "data": {
      "text/plain": [
       "POrg                    object\n",
       "Plnt                    object\n",
       "SLoc                    object\n",
       "Material                object\n",
       "Type                    object\n",
       "Doc_Date        datetime64[ns]\n",
       "Supplier                object\n",
       "Pur_Doc                 object\n",
       "Quantity               float64\n",
       "OUn                     object\n",
       "Quantity1              float64\n",
       "SKU                     object\n",
       "PGr                     object\n",
       "Net_Price              float64\n",
       "Crcy                    object\n",
       "Per                    float64\n",
       "To_be_del_1            float64\n",
       "To_be_del_2            float64\n",
       "To_be_inv_1            float64\n",
       "To_be_inv_2            float64\n",
       "key_plant               object\n",
       "key_material            object\n",
       "dtype: object"
      ]
     },
     "execution_count": 18,
     "metadata": {},
     "output_type": "execute_result"
    }
   ],
   "source": [
    "df_me2m.dtypes"
   ]
  }
 ],
 "metadata": {
  "kernelspec": {
   "display_name": ".venv",
   "language": "python",
   "name": "python3"
  },
  "language_info": {
   "codemirror_mode": {
    "name": "ipython",
    "version": 3
   },
   "file_extension": ".py",
   "mimetype": "text/x-python",
   "name": "python",
   "nbconvert_exporter": "python",
   "pygments_lexer": "ipython3",
   "version": "3.12.4"
  }
 },
 "nbformat": 4,
 "nbformat_minor": 2
}
