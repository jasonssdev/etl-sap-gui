{
 "cells": [
  {
   "cell_type": "code",
   "execution_count": 2,
   "metadata": {},
   "outputs": [],
   "source": [
    "import pandas as pd\n",
    "import os"
   ]
  },
  {
   "cell_type": "code",
   "execution_count": 3,
   "metadata": {},
   "outputs": [
    {
     "name": "stdout",
     "output_type": "stream",
     "text": [
      "c:\\Users\\sepujas\\Dev\\mat\\notebooks\n"
     ]
    }
   ],
   "source": [
    "current_path = os.getcwd()\n",
    "print(current_path)"
   ]
  },
  {
   "cell_type": "code",
   "execution_count": 4,
   "metadata": {},
   "outputs": [
    {
     "name": "stdout",
     "output_type": "stream",
     "text": [
      "c:\\Users\\sepujas\\Dev\\mat\n"
     ]
    }
   ],
   "source": [
    "base_path = os.path.abspath(os.path.join(current_path, os.pardir))\n",
    "print(base_path)"
   ]
  },
  {
   "cell_type": "code",
   "execution_count": 5,
   "metadata": {},
   "outputs": [
    {
     "name": "stdout",
     "output_type": "stream",
     "text": [
      "c:\\Users\\sepujas\\Dev\\mat\\data\\raw\\tbl_inbound.txt\n"
     ]
    }
   ],
   "source": [
    "inbound_file_path = os.path.join(base_path, 'data', 'raw', 'tbl_inbound.txt')\n",
    "print(inbound_file_path)"
   ]
  },
  {
   "cell_type": "code",
   "execution_count": 6,
   "metadata": {},
   "outputs": [
    {
     "name": "stdout",
     "output_type": "stream",
     "text": [
      "c:\\Users\\sepujas\\Dev\\mat\\data\\preprocessed\\tbl_inbound.csv\n"
     ]
    }
   ],
   "source": [
    "inbound_preprocessed_path = os.path.join(base_path, 'data', 'preprocessed', 'tbl_inbound.csv')\n",
    "print(inbound_preprocessed_path)"
   ]
  },
  {
   "cell_type": "code",
   "execution_count": 7,
   "metadata": {},
   "outputs": [],
   "source": [
    "df_inbound = pd.read_csv(inbound_file_path, sep='\\t', skiprows=3, encoding='latin1')"
   ]
  },
  {
   "cell_type": "code",
   "execution_count": 8,
   "metadata": {},
   "outputs": [
    {
     "data": {
      "text/html": [
       "<div>\n",
       "<style scoped>\n",
       "    .dataframe tbody tr th:only-of-type {\n",
       "        vertical-align: middle;\n",
       "    }\n",
       "\n",
       "    .dataframe tbody tr th {\n",
       "        vertical-align: top;\n",
       "    }\n",
       "\n",
       "    .dataframe thead th {\n",
       "        text-align: right;\n",
       "    }\n",
       "</style>\n",
       "<table border=\"1\" class=\"dataframe\">\n",
       "  <thead>\n",
       "    <tr style=\"text-align: right;\">\n",
       "      <th></th>\n",
       "      <th>Unnamed: 0</th>\n",
       "      <th>Unnamed: 1</th>\n",
       "      <th>Doc. No.</th>\n",
       "      <th>Unnamed: 3</th>\n",
       "      <th>Shipment</th>\n",
       "      <th>Purch.Doc.</th>\n",
       "      <th>Item</th>\n",
       "      <th>Material</th>\n",
       "      <th>Material Description</th>\n",
       "      <th>Plnt</th>\n",
       "      <th>...</th>\n",
       "      <th>Deliv.Date</th>\n",
       "      <th>Doc. Date</th>\n",
       "      <th>Ext. Order Pos</th>\n",
       "      <th>Ext. Order Number</th>\n",
       "      <th>Suppl.Vndr</th>\n",
       "      <th>TrackingNo</th>\n",
       "      <th>Reservation</th>\n",
       "      <th>Reservation item</th>\n",
       "      <th>Reservation order date</th>\n",
       "      <th>Diff.days</th>\n",
       "    </tr>\n",
       "  </thead>\n",
       "  <tbody>\n",
       "    <tr>\n",
       "      <th>0</th>\n",
       "      <td>NaN</td>\n",
       "      <td>NaN</td>\n",
       "      <td>4.051475e+09</td>\n",
       "      <td>NaN</td>\n",
       "      <td>10321076.0</td>\n",
       "      <td>4.536940e+09</td>\n",
       "      <td>1.0</td>\n",
       "      <td>2105698.0</td>\n",
       "      <td>Gas can GC 42</td>\n",
       "      <td>8650.0</td>\n",
       "      <td>...</td>\n",
       "      <td>03.07.2024</td>\n",
       "      <td>25.06.2024</td>\n",
       "      <td>10.0</td>\n",
       "      <td>56295227.0</td>\n",
       "      <td>HLI0550</td>\n",
       "      <td>D348768001</td>\n",
       "      <td>13348768.0</td>\n",
       "      <td>1.0</td>\n",
       "      <td>20.06.2024</td>\n",
       "      <td>0.0</td>\n",
       "    </tr>\n",
       "    <tr>\n",
       "      <th>1</th>\n",
       "      <td>NaN</td>\n",
       "      <td>NaN</td>\n",
       "      <td>4.051475e+09</td>\n",
       "      <td>NaN</td>\n",
       "      <td>10321076.0</td>\n",
       "      <td>4.536940e+09</td>\n",
       "      <td>1.0</td>\n",
       "      <td>2105698.0</td>\n",
       "      <td>Gas can GC 42</td>\n",
       "      <td>8650.0</td>\n",
       "      <td>...</td>\n",
       "      <td>03.07.2024</td>\n",
       "      <td>25.06.2024</td>\n",
       "      <td>10.0</td>\n",
       "      <td>56295227.0</td>\n",
       "      <td>HLI0550</td>\n",
       "      <td>D348768001</td>\n",
       "      <td>13348768.0</td>\n",
       "      <td>1.0</td>\n",
       "      <td>20.06.2024</td>\n",
       "      <td>0.0</td>\n",
       "    </tr>\n",
       "    <tr>\n",
       "      <th>2</th>\n",
       "      <td>NaN</td>\n",
       "      <td>NaN</td>\n",
       "      <td>4.051475e+09</td>\n",
       "      <td>NaN</td>\n",
       "      <td>10321076.0</td>\n",
       "      <td>4.536940e+09</td>\n",
       "      <td>1.0</td>\n",
       "      <td>2105698.0</td>\n",
       "      <td>Gas can GC 42</td>\n",
       "      <td>8650.0</td>\n",
       "      <td>...</td>\n",
       "      <td>03.07.2024</td>\n",
       "      <td>25.06.2024</td>\n",
       "      <td>10.0</td>\n",
       "      <td>56295227.0</td>\n",
       "      <td>HLI0550</td>\n",
       "      <td>D348768001</td>\n",
       "      <td>13348768.0</td>\n",
       "      <td>1.0</td>\n",
       "      <td>20.06.2024</td>\n",
       "      <td>0.0</td>\n",
       "    </tr>\n",
       "    <tr>\n",
       "      <th>3</th>\n",
       "      <td>NaN</td>\n",
       "      <td>NaN</td>\n",
       "      <td>4.051475e+09</td>\n",
       "      <td>NaN</td>\n",
       "      <td>10321076.0</td>\n",
       "      <td>4.536940e+09</td>\n",
       "      <td>1.0</td>\n",
       "      <td>2105698.0</td>\n",
       "      <td>Gas can GC 42</td>\n",
       "      <td>8650.0</td>\n",
       "      <td>...</td>\n",
       "      <td>03.07.2024</td>\n",
       "      <td>25.06.2024</td>\n",
       "      <td>10.0</td>\n",
       "      <td>56295227.0</td>\n",
       "      <td>HLI0550</td>\n",
       "      <td>D348768001</td>\n",
       "      <td>13348768.0</td>\n",
       "      <td>1.0</td>\n",
       "      <td>20.06.2024</td>\n",
       "      <td>0.0</td>\n",
       "    </tr>\n",
       "    <tr>\n",
       "      <th>4</th>\n",
       "      <td>NaN</td>\n",
       "      <td>NaN</td>\n",
       "      <td>4.051475e+09</td>\n",
       "      <td>NaN</td>\n",
       "      <td>10321076.0</td>\n",
       "      <td>4.536940e+09</td>\n",
       "      <td>1.0</td>\n",
       "      <td>2105698.0</td>\n",
       "      <td>Gas can GC 42</td>\n",
       "      <td>8650.0</td>\n",
       "      <td>...</td>\n",
       "      <td>03.07.2024</td>\n",
       "      <td>25.06.2024</td>\n",
       "      <td>10.0</td>\n",
       "      <td>56295227.0</td>\n",
       "      <td>HLI0550</td>\n",
       "      <td>D348768001</td>\n",
       "      <td>13348768.0</td>\n",
       "      <td>1.0</td>\n",
       "      <td>20.06.2024</td>\n",
       "      <td>0.0</td>\n",
       "    </tr>\n",
       "  </tbody>\n",
       "</table>\n",
       "<p>5 rows × 32 columns</p>\n",
       "</div>"
      ],
      "text/plain": [
       "   Unnamed: 0 Unnamed: 1      Doc. No.  Unnamed: 3    Shipment    Purch.Doc.  \\\n",
       "0         NaN        NaN  4.051475e+09         NaN  10321076.0  4.536940e+09   \n",
       "1         NaN        NaN  4.051475e+09         NaN  10321076.0  4.536940e+09   \n",
       "2         NaN        NaN  4.051475e+09         NaN  10321076.0  4.536940e+09   \n",
       "3         NaN        NaN  4.051475e+09         NaN  10321076.0  4.536940e+09   \n",
       "4         NaN        NaN  4.051475e+09         NaN  10321076.0  4.536940e+09   \n",
       "\n",
       "    Item   Material Material Description    Plnt  ...  Deliv.Date   Doc. Date  \\\n",
       "0    1.0  2105698.0        Gas can GC 42  8650.0  ...  03.07.2024  25.06.2024   \n",
       "1    1.0  2105698.0        Gas can GC 42  8650.0  ...  03.07.2024  25.06.2024   \n",
       "2    1.0  2105698.0        Gas can GC 42  8650.0  ...  03.07.2024  25.06.2024   \n",
       "3    1.0  2105698.0        Gas can GC 42  8650.0  ...  03.07.2024  25.06.2024   \n",
       "4    1.0  2105698.0        Gas can GC 42  8650.0  ...  03.07.2024  25.06.2024   \n",
       "\n",
       "  Ext. Order Pos Ext. Order Number  Suppl.Vndr  TrackingNo  Reservation  \\\n",
       "0           10.0        56295227.0     HLI0550  D348768001   13348768.0   \n",
       "1           10.0        56295227.0     HLI0550  D348768001   13348768.0   \n",
       "2           10.0        56295227.0     HLI0550  D348768001   13348768.0   \n",
       "3           10.0        56295227.0     HLI0550  D348768001   13348768.0   \n",
       "4           10.0        56295227.0     HLI0550  D348768001   13348768.0   \n",
       "\n",
       "  Reservation item  Reservation order date Diff.days  \n",
       "0              1.0              20.06.2024       0.0  \n",
       "1              1.0              20.06.2024       0.0  \n",
       "2              1.0              20.06.2024       0.0  \n",
       "3              1.0              20.06.2024       0.0  \n",
       "4              1.0              20.06.2024       0.0  \n",
       "\n",
       "[5 rows x 32 columns]"
      ]
     },
     "execution_count": 8,
     "metadata": {},
     "output_type": "execute_result"
    }
   ],
   "source": [
    "df_inbound.head()"
   ]
  },
  {
   "cell_type": "code",
   "execution_count": 9,
   "metadata": {},
   "outputs": [],
   "source": [
    "unnamed_columns = [col for col in df_inbound.columns if 'Unnamed:' in col]"
   ]
  },
  {
   "cell_type": "code",
   "execution_count": 10,
   "metadata": {},
   "outputs": [],
   "source": [
    "df_inbound.drop(columns=unnamed_columns, inplace=True)"
   ]
  },
  {
   "cell_type": "code",
   "execution_count": 11,
   "metadata": {},
   "outputs": [],
   "source": [
    "column_titles = df_inbound.columns.tolist()"
   ]
  },
  {
   "cell_type": "code",
   "execution_count": 12,
   "metadata": {},
   "outputs": [],
   "source": [
    "new_column_titles = {col: col.strip().replace(' ', '_').replace('-','_').replace('.','') for col in column_titles}"
   ]
  },
  {
   "cell_type": "code",
   "execution_count": 13,
   "metadata": {},
   "outputs": [],
   "source": [
    "df_inbound.rename(columns=new_column_titles, inplace=True)"
   ]
  },
  {
   "cell_type": "code",
   "execution_count": 14,
   "metadata": {},
   "outputs": [],
   "source": [
    "column_counts = df_inbound.columns.value_counts()\n",
    "duplicate_columns = column_counts[column_counts > 1].index\n",
    "\n",
    "for col in duplicate_columns:\n",
    "    col_indices = [i for i, x in enumerate(df_inbound.columns) if x == col]\n",
    "    for j, index in enumerate(col_indices):\n",
    "        df_inbound.columns.values[index] = f\"{col}_{j+1}\"\n",
    "\n"
   ]
  },
  {
   "cell_type": "code",
   "execution_count": 15,
   "metadata": {},
   "outputs": [
    {
     "data": {
      "text/plain": [
       "['Doc_No',\n",
       " 'Shipment',\n",
       " 'PurchDoc',\n",
       " 'Item_1',\n",
       " 'Material',\n",
       " 'Material_Description',\n",
       " 'Plnt',\n",
       " 'SLoc',\n",
       " 'PO_Quantity',\n",
       " 'OUn',\n",
       " 'OUn1',\n",
       " 'Item_2',\n",
       " 'Delivery',\n",
       " 'Reference',\n",
       " 'Supplier',\n",
       " 'POrg',\n",
       " 'PGr',\n",
       " 'Vendor',\n",
       " 'ShPt',\n",
       " 'DelivDate',\n",
       " 'Doc_Date',\n",
       " 'Ext_Order_Pos',\n",
       " 'Ext_Order_Number',\n",
       " 'SupplVndr',\n",
       " 'TrackingNo',\n",
       " 'Reservation',\n",
       " 'Reservation_item',\n",
       " 'Reservation_order_date',\n",
       " 'Diffdays']"
      ]
     },
     "execution_count": 15,
     "metadata": {},
     "output_type": "execute_result"
    }
   ],
   "source": [
    "df_inbound.columns.tolist()"
   ]
  },
  {
   "cell_type": "code",
   "execution_count": 16,
   "metadata": {},
   "outputs": [
    {
     "data": {
      "text/plain": [
       "Doc_No                    float64\n",
       "Shipment                  float64\n",
       "PurchDoc                  float64\n",
       "Item_1                    float64\n",
       "Material                  float64\n",
       "Material_Description       object\n",
       "Plnt                      float64\n",
       "SLoc                      float64\n",
       "PO_Quantity                object\n",
       "OUn                        object\n",
       "OUn1                       object\n",
       "Item_2                    float64\n",
       "Delivery                  float64\n",
       "Reference                 float64\n",
       "Supplier                   object\n",
       "POrg                      float64\n",
       "PGr                        object\n",
       "Vendor                    float64\n",
       "ShPt                      float64\n",
       "DelivDate                  object\n",
       "Doc_Date                   object\n",
       "Ext_Order_Pos             float64\n",
       "Ext_Order_Number          float64\n",
       "SupplVndr                  object\n",
       "TrackingNo                 object\n",
       "Reservation               float64\n",
       "Reservation_item          float64\n",
       "Reservation_order_date     object\n",
       "Diffdays                  float64\n",
       "dtype: object"
      ]
     },
     "execution_count": 16,
     "metadata": {},
     "output_type": "execute_result"
    }
   ],
   "source": [
    "df_inbound.dtypes"
   ]
  },
  {
   "cell_type": "code",
   "execution_count": 17,
   "metadata": {},
   "outputs": [
    {
     "data": {
      "text/plain": [
       "0    8650.0\n",
       "1    8650.0\n",
       "2    8650.0\n",
       "3    8650.0\n",
       "4    8650.0\n",
       "Name: POrg, dtype: float64"
      ]
     },
     "execution_count": 17,
     "metadata": {},
     "output_type": "execute_result"
    }
   ],
   "source": [
    "df_inbound['POrg'].head()"
   ]
  },
  {
   "cell_type": "code",
   "execution_count": 18,
   "metadata": {},
   "outputs": [],
   "source": [
    "df_inbound['Doc_No'] = df_inbound['Doc_No'].fillna(0).astype(int).astype(str)\n",
    "df_inbound['Shipment'] = df_inbound['Shipment'].fillna(0).astype(int).astype(str).str.strip()\n",
    "df_inbound['PurchDoc'] = df_inbound['PurchDoc'].fillna(0).astype(int).astype(str).str.strip()\n",
    "df_inbound['Item_1'] = df_inbound['Item_1'].fillna(0).astype(int).astype(str).str.strip()\n",
    "df_inbound['Material'] = df_inbound['Material'].fillna(0).astype(int).astype(str).str.strip()\n",
    "df_inbound['Material_Description'] = df_inbound['Material_Description'].astype(str).str.strip()\n",
    "df_inbound['Plnt'] = df_inbound['Plnt'].fillna(0).astype(int).astype(str)\n",
    "df_inbound['SLoc'] = df_inbound['SLoc'].fillna(0).astype(int).astype(str)\n",
    "df_inbound['PO_Quantity'] = df_inbound['PO_Quantity'].astype(str).str.strip().str.replace('.', '').str.replace(',', '.').astype(float)\n",
    "df_inbound['OUn'] = df_inbound['OUn'].astype(str).str.strip()\n",
    "df_inbound['OUn1'] = df_inbound['OUn1'].astype(str).str.strip()\n",
    "df_inbound['Item_2'] = df_inbound['Item_2'].fillna(0).astype(int).astype(str)\n",
    "df_inbound['Delivery'] = df_inbound['Delivery'].fillna(0).astype(int).astype(str)\n",
    "df_inbound['Reference'] = df_inbound['Reference'].astype(str).str.strip()\n",
    "df_inbound['Plnt'] = df_inbound['Plnt'].fillna(0).astype(int).astype(str)\n",
    "df_inbound['Supplier'] = df_inbound['Supplier'].astype(str).str.strip()\n",
    "df_inbound['POrg'] = df_inbound['POrg'].fillna(0).astype(int).astype(str)\n",
    "df_inbound['PGr'] = df_inbound['PGr'].astype(str).str.strip()\n",
    "df_inbound['Vendor'] = df_inbound['Vendor'].astype(str).str.strip()\n",
    "df_inbound['ShPt'] = df_inbound['ShPt'].fillna(0).astype(int).astype(str)\n",
    "df_inbound['DelivDate'] = pd.to_datetime(df_inbound['DelivDate'], errors=\"coerce\", format='%d.%m.%Y')\n",
    "df_inbound['Doc_Date'] = pd.to_datetime(df_inbound['Doc_Date'], errors=\"coerce\", format='%d.%m.%Y')\n",
    "df_inbound['Ext_Order_Pos'] = df_inbound['Ext_Order_Pos'].fillna(0).astype(int).astype(str)\n",
    "df_inbound['Ext_Order_Number'] = df_inbound['Ext_Order_Number'].fillna(0).astype(int).astype(str)\n",
    "df_inbound['SupplVndr'] = df_inbound['SupplVndr'].astype(str).str.strip()\n",
    "df_inbound['TrackingNo'] = df_inbound['TrackingNo'].astype(str).str.strip()\n",
    "df_inbound['Reservation'] = df_inbound['Reservation'].fillna(0).astype(int).astype(str).str.strip()\n",
    "df_inbound['Reservation_item'] = df_inbound['Reservation_item'].fillna(0).astype(int).astype(str)\n",
    "df_inbound['Reservation_order_date'] = pd.to_datetime(df_inbound['Reservation_order_date'], errors=\"coerce\", format='%d.%m.%Y')\n",
    "df_inbound['Diffdays'] = df_inbound['Diffdays'].astype(str).str.strip().astype(float)\n",
    "\n",
    "\n",
    "\n",
    "\n"
   ]
  },
  {
   "cell_type": "code",
   "execution_count": 19,
   "metadata": {},
   "outputs": [],
   "source": [
    "df_inbound['key_material'] = df_inbound['POrg'] + '/' + df_inbound['Material']\n",
    "df_inbound['key_material'] = df_inbound['key_material'].astype(str).str.strip()"
   ]
  },
  {
   "cell_type": "code",
   "execution_count": 20,
   "metadata": {},
   "outputs": [],
   "source": [
    "df_inbound.to_csv(inbound_preprocessed_path, index=False)"
   ]
  },
  {
   "cell_type": "code",
   "execution_count": 21,
   "metadata": {},
   "outputs": [
    {
     "data": {
      "text/plain": [
       "Doc_No                            object\n",
       "Shipment                          object\n",
       "PurchDoc                          object\n",
       "Item_1                            object\n",
       "Material                          object\n",
       "Material_Description              object\n",
       "Plnt                              object\n",
       "SLoc                              object\n",
       "PO_Quantity                      float64\n",
       "OUn                               object\n",
       "OUn1                              object\n",
       "Item_2                            object\n",
       "Delivery                          object\n",
       "Reference                         object\n",
       "Supplier                          object\n",
       "POrg                              object\n",
       "PGr                               object\n",
       "Vendor                            object\n",
       "ShPt                              object\n",
       "DelivDate                 datetime64[ns]\n",
       "Doc_Date                  datetime64[ns]\n",
       "Ext_Order_Pos                     object\n",
       "Ext_Order_Number                  object\n",
       "SupplVndr                         object\n",
       "TrackingNo                        object\n",
       "Reservation                       object\n",
       "Reservation_item                  object\n",
       "Reservation_order_date    datetime64[ns]\n",
       "Diffdays                         float64\n",
       "key_material                      object\n",
       "dtype: object"
      ]
     },
     "execution_count": 21,
     "metadata": {},
     "output_type": "execute_result"
    }
   ],
   "source": [
    "df_inbound.dtypes"
   ]
  },
  {
   "cell_type": "code",
   "execution_count": null,
   "metadata": {},
   "outputs": [],
   "source": []
  }
 ],
 "metadata": {
  "kernelspec": {
   "display_name": ".venv",
   "language": "python",
   "name": "python3"
  },
  "language_info": {
   "codemirror_mode": {
    "name": "ipython",
    "version": 3
   },
   "file_extension": ".py",
   "mimetype": "text/x-python",
   "name": "python",
   "nbconvert_exporter": "python",
   "pygments_lexer": "ipython3",
   "version": "3.12.4"
  }
 },
 "nbformat": 4,
 "nbformat_minor": 2
}
