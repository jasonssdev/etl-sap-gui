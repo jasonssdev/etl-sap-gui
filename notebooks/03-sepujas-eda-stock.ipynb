{
 "cells": [
  {
   "cell_type": "code",
   "execution_count": 1,
   "metadata": {},
   "outputs": [],
   "source": [
    "import pandas as pd\n",
    "import os"
   ]
  },
  {
   "cell_type": "code",
   "execution_count": 2,
   "metadata": {},
   "outputs": [
    {
     "name": "stdout",
     "output_type": "stream",
     "text": [
      "c:\\Users\\sepujas\\Dev\\mat2\\notebooks\n"
     ]
    }
   ],
   "source": [
    "current_path = os.getcwd()\n",
    "print(current_path)"
   ]
  },
  {
   "cell_type": "code",
   "execution_count": 3,
   "metadata": {},
   "outputs": [
    {
     "name": "stdout",
     "output_type": "stream",
     "text": [
      "c:\\Users\\sepujas\\Dev\\mat2\n"
     ]
    }
   ],
   "source": [
    "base_path = os.path.abspath(os.path.join(current_path, os.pardir))\n",
    "print(base_path)"
   ]
  },
  {
   "cell_type": "code",
   "execution_count": 4,
   "metadata": {},
   "outputs": [
    {
     "name": "stdout",
     "output_type": "stream",
     "text": [
      "c:\\Users\\sepujas\\Dev\\mat2\\data\\raw\\tbl_stock_mb52.txt\n"
     ]
    }
   ],
   "source": [
    "stock_file_path = os.path.join(base_path, 'data', 'raw', 'tbl_stock_mb52.txt')\n",
    "print(stock_file_path)"
   ]
  },
  {
   "cell_type": "code",
   "execution_count": 5,
   "metadata": {},
   "outputs": [
    {
     "name": "stdout",
     "output_type": "stream",
     "text": [
      "c:\\Users\\sepujas\\Dev\\mat2\\data\\preprocessed\\tbl_stock.csv\n"
     ]
    }
   ],
   "source": [
    "stock_preprocessed_path = os.path.join(base_path, 'data', 'preprocessed', 'tbl_stock.csv')\n",
    "print(stock_preprocessed_path)"
   ]
  },
  {
   "cell_type": "code",
   "execution_count": 6,
   "metadata": {},
   "outputs": [
    {
     "data": {
      "text/html": [
       "<div>\n",
       "<style scoped>\n",
       "    .dataframe tbody tr th:only-of-type {\n",
       "        vertical-align: middle;\n",
       "    }\n",
       "\n",
       "    .dataframe tbody tr th {\n",
       "        vertical-align: top;\n",
       "    }\n",
       "\n",
       "    .dataframe thead th {\n",
       "        text-align: right;\n",
       "    }\n",
       "</style>\n",
       "<table border=\"1\" class=\"dataframe\">\n",
       "  <thead>\n",
       "    <tr style=\"text-align: right;\">\n",
       "      <th></th>\n",
       "      <th>Unnamed: 0</th>\n",
       "      <th>Material</th>\n",
       "      <th>Material Description</th>\n",
       "      <th>SLoc</th>\n",
       "      <th>SL</th>\n",
       "      <th>Plnt</th>\n",
       "      <th>BUn</th>\n",
       "      <th>Unrestricted</th>\n",
       "      <th>Transit/Transf.</th>\n",
       "      <th>Blocked</th>\n",
       "      <th>In Qual. Insp.</th>\n",
       "      <th>Restricted-Use</th>\n",
       "      <th>Returns</th>\n",
       "      <th>Stk in Transit</th>\n",
       "    </tr>\n",
       "  </thead>\n",
       "  <tbody>\n",
       "    <tr>\n",
       "      <th>0</th>\n",
       "      <td>NaN</td>\n",
       "      <td>1953</td>\n",
       "      <td>Drill bit extension TE-FY-E60</td>\n",
       "      <td>1.0</td>\n",
       "      <td>NaN</td>\n",
       "      <td>3000</td>\n",
       "      <td>PC</td>\n",
       "      <td>2</td>\n",
       "      <td>0.0</td>\n",
       "      <td>0.0</td>\n",
       "      <td>0.0</td>\n",
       "      <td>0</td>\n",
       "      <td>0</td>\n",
       "      <td>0.0</td>\n",
       "    </tr>\n",
       "    <tr>\n",
       "      <th>1</th>\n",
       "      <td>NaN</td>\n",
       "      <td>1954</td>\n",
       "      <td>Drill bit extension TE-FY-E85</td>\n",
       "      <td>1.0</td>\n",
       "      <td>NaN</td>\n",
       "      <td>8750</td>\n",
       "      <td>PC</td>\n",
       "      <td>4</td>\n",
       "      <td>0.0</td>\n",
       "      <td>0.0</td>\n",
       "      <td>0.0</td>\n",
       "      <td>0</td>\n",
       "      <td>0</td>\n",
       "      <td>0.0</td>\n",
       "    </tr>\n",
       "    <tr>\n",
       "      <th>2</th>\n",
       "      <td>NaN</td>\n",
       "      <td>3730</td>\n",
       "      <td>Piston ring</td>\n",
       "      <td>1.0</td>\n",
       "      <td>NaN</td>\n",
       "      <td>3000</td>\n",
       "      <td>PC</td>\n",
       "      <td>1</td>\n",
       "      <td>0.0</td>\n",
       "      <td>0.0</td>\n",
       "      <td>0.0</td>\n",
       "      <td>0</td>\n",
       "      <td>0</td>\n",
       "      <td>0.0</td>\n",
       "    </tr>\n",
       "    <tr>\n",
       "      <th>3</th>\n",
       "      <td>NaN</td>\n",
       "      <td>24631</td>\n",
       "      <td>Cleaner CFR1 500ML</td>\n",
       "      <td>1.0</td>\n",
       "      <td>NaN</td>\n",
       "      <td>3000</td>\n",
       "      <td>PC</td>\n",
       "      <td>5</td>\n",
       "      <td>0.0</td>\n",
       "      <td>5.0</td>\n",
       "      <td>0.0</td>\n",
       "      <td>0</td>\n",
       "      <td>0</td>\n",
       "      <td>0.0</td>\n",
       "    </tr>\n",
       "    <tr>\n",
       "      <th>4</th>\n",
       "      <td>NaN</td>\n",
       "      <td>24669</td>\n",
       "      <td>Dispenser CS 270-P1</td>\n",
       "      <td>1.0</td>\n",
       "      <td>NaN</td>\n",
       "      <td>3000</td>\n",
       "      <td>PC</td>\n",
       "      <td>28</td>\n",
       "      <td>0.0</td>\n",
       "      <td>0.0</td>\n",
       "      <td>0.0</td>\n",
       "      <td>0</td>\n",
       "      <td>0</td>\n",
       "      <td>0.0</td>\n",
       "    </tr>\n",
       "  </tbody>\n",
       "</table>\n",
       "</div>"
      ],
      "text/plain": [
       "   Unnamed: 0  Material           Material Description  SLoc   SL  Plnt BUn  \\\n",
       "0         NaN      1953  Drill bit extension TE-FY-E60   1.0  NaN  3000  PC   \n",
       "1         NaN      1954  Drill bit extension TE-FY-E85   1.0  NaN  8750  PC   \n",
       "2         NaN      3730                    Piston ring   1.0  NaN  3000  PC   \n",
       "3         NaN     24631             Cleaner CFR1 500ML   1.0  NaN  3000  PC   \n",
       "4         NaN     24669            Dispenser CS 270-P1   1.0  NaN  3000  PC   \n",
       "\n",
       "     Unrestricted  Transit/Transf.          Blocked   In Qual. Insp.  \\\n",
       "0               2              0.0              0.0              0.0   \n",
       "1               4              0.0              0.0              0.0   \n",
       "2               1              0.0              0.0              0.0   \n",
       "3               5              0.0              5.0              0.0   \n",
       "4              28              0.0              0.0              0.0   \n",
       "\n",
       "    Restricted-Use          Returns   Stk in Transit  \n",
       "0                0                0              0.0  \n",
       "1                0                0              0.0  \n",
       "2                0                0              0.0  \n",
       "3                0                0              0.0  \n",
       "4                0                0              0.0  "
      ]
     },
     "execution_count": 6,
     "metadata": {},
     "output_type": "execute_result"
    }
   ],
   "source": [
    "df_stock = pd.read_csv(stock_file_path, sep='\\t', skiprows=1, encoding='latin1')\n",
    "df_stock.head()"
   ]
  },
  {
   "cell_type": "code",
   "execution_count": 7,
   "metadata": {},
   "outputs": [
    {
     "name": "stdout",
     "output_type": "stream",
     "text": [
      "Columns with 'Unnamed:' in their title:\n",
      "Unnamed: 0\n"
     ]
    }
   ],
   "source": [
    "unnamed_columns = [col for col in df_stock.columns if 'Unnamed:' in col]\n",
    "\n",
    "print(\"Columns with 'Unnamed:' in their title:\")\n",
    "for col in unnamed_columns:\n",
    "    print(col)"
   ]
  },
  {
   "cell_type": "code",
   "execution_count": 8,
   "metadata": {},
   "outputs": [],
   "source": [
    "df_stock.drop(columns=unnamed_columns, inplace=True)"
   ]
  },
  {
   "cell_type": "code",
   "execution_count": 9,
   "metadata": {},
   "outputs": [],
   "source": [
    "pd.set_option('display.max_columns', None)\n"
   ]
  },
  {
   "cell_type": "code",
   "execution_count": 10,
   "metadata": {},
   "outputs": [
    {
     "data": {
      "text/html": [
       "<div>\n",
       "<style scoped>\n",
       "    .dataframe tbody tr th:only-of-type {\n",
       "        vertical-align: middle;\n",
       "    }\n",
       "\n",
       "    .dataframe tbody tr th {\n",
       "        vertical-align: top;\n",
       "    }\n",
       "\n",
       "    .dataframe thead th {\n",
       "        text-align: right;\n",
       "    }\n",
       "</style>\n",
       "<table border=\"1\" class=\"dataframe\">\n",
       "  <thead>\n",
       "    <tr style=\"text-align: right;\">\n",
       "      <th></th>\n",
       "      <th>Material</th>\n",
       "      <th>Material Description</th>\n",
       "      <th>SLoc</th>\n",
       "      <th>SL</th>\n",
       "      <th>Plnt</th>\n",
       "      <th>BUn</th>\n",
       "      <th>Unrestricted</th>\n",
       "      <th>Transit/Transf.</th>\n",
       "      <th>Blocked</th>\n",
       "      <th>In Qual. Insp.</th>\n",
       "      <th>Restricted-Use</th>\n",
       "      <th>Returns</th>\n",
       "      <th>Stk in Transit</th>\n",
       "    </tr>\n",
       "  </thead>\n",
       "  <tbody>\n",
       "    <tr>\n",
       "      <th>0</th>\n",
       "      <td>1953</td>\n",
       "      <td>Drill bit extension TE-FY-E60</td>\n",
       "      <td>1.0</td>\n",
       "      <td>NaN</td>\n",
       "      <td>3000</td>\n",
       "      <td>PC</td>\n",
       "      <td>2</td>\n",
       "      <td>0.0</td>\n",
       "      <td>0.0</td>\n",
       "      <td>0.0</td>\n",
       "      <td>0</td>\n",
       "      <td>0</td>\n",
       "      <td>0.0</td>\n",
       "    </tr>\n",
       "    <tr>\n",
       "      <th>1</th>\n",
       "      <td>1954</td>\n",
       "      <td>Drill bit extension TE-FY-E85</td>\n",
       "      <td>1.0</td>\n",
       "      <td>NaN</td>\n",
       "      <td>8750</td>\n",
       "      <td>PC</td>\n",
       "      <td>4</td>\n",
       "      <td>0.0</td>\n",
       "      <td>0.0</td>\n",
       "      <td>0.0</td>\n",
       "      <td>0</td>\n",
       "      <td>0</td>\n",
       "      <td>0.0</td>\n",
       "    </tr>\n",
       "    <tr>\n",
       "      <th>2</th>\n",
       "      <td>3730</td>\n",
       "      <td>Piston ring</td>\n",
       "      <td>1.0</td>\n",
       "      <td>NaN</td>\n",
       "      <td>3000</td>\n",
       "      <td>PC</td>\n",
       "      <td>1</td>\n",
       "      <td>0.0</td>\n",
       "      <td>0.0</td>\n",
       "      <td>0.0</td>\n",
       "      <td>0</td>\n",
       "      <td>0</td>\n",
       "      <td>0.0</td>\n",
       "    </tr>\n",
       "    <tr>\n",
       "      <th>3</th>\n",
       "      <td>24631</td>\n",
       "      <td>Cleaner CFR1 500ML</td>\n",
       "      <td>1.0</td>\n",
       "      <td>NaN</td>\n",
       "      <td>3000</td>\n",
       "      <td>PC</td>\n",
       "      <td>5</td>\n",
       "      <td>0.0</td>\n",
       "      <td>5.0</td>\n",
       "      <td>0.0</td>\n",
       "      <td>0</td>\n",
       "      <td>0</td>\n",
       "      <td>0.0</td>\n",
       "    </tr>\n",
       "    <tr>\n",
       "      <th>4</th>\n",
       "      <td>24669</td>\n",
       "      <td>Dispenser CS 270-P1</td>\n",
       "      <td>1.0</td>\n",
       "      <td>NaN</td>\n",
       "      <td>3000</td>\n",
       "      <td>PC</td>\n",
       "      <td>28</td>\n",
       "      <td>0.0</td>\n",
       "      <td>0.0</td>\n",
       "      <td>0.0</td>\n",
       "      <td>0</td>\n",
       "      <td>0</td>\n",
       "      <td>0.0</td>\n",
       "    </tr>\n",
       "  </tbody>\n",
       "</table>\n",
       "</div>"
      ],
      "text/plain": [
       "   Material           Material Description  SLoc   SL  Plnt BUn  \\\n",
       "0      1953  Drill bit extension TE-FY-E60   1.0  NaN  3000  PC   \n",
       "1      1954  Drill bit extension TE-FY-E85   1.0  NaN  8750  PC   \n",
       "2      3730                    Piston ring   1.0  NaN  3000  PC   \n",
       "3     24631             Cleaner CFR1 500ML   1.0  NaN  3000  PC   \n",
       "4     24669            Dispenser CS 270-P1   1.0  NaN  3000  PC   \n",
       "\n",
       "     Unrestricted  Transit/Transf.          Blocked   In Qual. Insp.  \\\n",
       "0               2              0.0              0.0              0.0   \n",
       "1               4              0.0              0.0              0.0   \n",
       "2               1              0.0              0.0              0.0   \n",
       "3               5              0.0              5.0              0.0   \n",
       "4              28              0.0              0.0              0.0   \n",
       "\n",
       "    Restricted-Use          Returns   Stk in Transit  \n",
       "0                0                0              0.0  \n",
       "1                0                0              0.0  \n",
       "2                0                0              0.0  \n",
       "3                0                0              0.0  \n",
       "4                0                0              0.0  "
      ]
     },
     "execution_count": 10,
     "metadata": {},
     "output_type": "execute_result"
    }
   ],
   "source": [
    "df_stock.head()"
   ]
  },
  {
   "cell_type": "code",
   "execution_count": 11,
   "metadata": {},
   "outputs": [
    {
     "data": {
      "text/plain": [
       "['Material',\n",
       " 'Material Description',\n",
       " 'SLoc',\n",
       " 'SL',\n",
       " 'Plnt',\n",
       " 'BUn',\n",
       " '   Unrestricted',\n",
       " 'Transit/Transf.',\n",
       " '        Blocked',\n",
       " ' In Qual. Insp.',\n",
       " ' Restricted-Use',\n",
       " '        Returns',\n",
       " ' Stk in Transit']"
      ]
     },
     "execution_count": 11,
     "metadata": {},
     "output_type": "execute_result"
    }
   ],
   "source": [
    "column_titles = df_stock.columns.tolist()\n",
    "column_titles"
   ]
  },
  {
   "cell_type": "code",
   "execution_count": 12,
   "metadata": {},
   "outputs": [],
   "source": [
    "new_column_titles = {col: col.strip().replace(' ', '_').replace('/','_').replace('-','_').replace('.','') for col in column_titles}"
   ]
  },
  {
   "cell_type": "code",
   "execution_count": 13,
   "metadata": {},
   "outputs": [],
   "source": [
    "df_stock.rename(columns=new_column_titles, inplace=True)\n"
   ]
  },
  {
   "cell_type": "code",
   "execution_count": 14,
   "metadata": {},
   "outputs": [
    {
     "data": {
      "text/plain": [
       "['Material',\n",
       " 'Material_Description',\n",
       " 'SLoc',\n",
       " 'SL',\n",
       " 'Plnt',\n",
       " 'BUn',\n",
       " 'Unrestricted',\n",
       " 'Transit_Transf',\n",
       " 'Blocked',\n",
       " 'In_Qual_Insp',\n",
       " 'Restricted_Use',\n",
       " 'Returns',\n",
       " 'Stk_in_Transit']"
      ]
     },
     "execution_count": 14,
     "metadata": {},
     "output_type": "execute_result"
    }
   ],
   "source": [
    "df_stock.columns.tolist()"
   ]
  },
  {
   "cell_type": "code",
   "execution_count": 15,
   "metadata": {},
   "outputs": [
    {
     "data": {
      "text/plain": [
       "Material                  int64\n",
       "Material_Description     object\n",
       "SLoc                    float64\n",
       "SL                       object\n",
       "Plnt                      int64\n",
       "BUn                      object\n",
       "Unrestricted             object\n",
       "Transit_Transf          float64\n",
       "Blocked                 float64\n",
       "In_Qual_Insp            float64\n",
       "Restricted_Use            int64\n",
       "Returns                   int64\n",
       "Stk_in_Transit          float64\n",
       "dtype: object"
      ]
     },
     "execution_count": 15,
     "metadata": {},
     "output_type": "execute_result"
    }
   ],
   "source": [
    "df_stock.dtypes"
   ]
  },
  {
   "cell_type": "code",
   "execution_count": 18,
   "metadata": {},
   "outputs": [],
   "source": [
    "df_stock['Material'] = df_stock['Material'].fillna(0).astype(int).astype(str).str.strip()\n",
    "df_stock['Material_Description'] = df_stock['Material_Description'].astype(str).str.strip()\n",
    "df_stock['SLoc'] = df_stock['SLoc'].fillna(0).astype(int).astype(str).str.strip()\n",
    "df_stock['SL'] = df_stock['SL'].astype(str).str.strip()\n",
    "df_stock['Plnt'] = df_stock['Plnt'].fillna(0).astype(int).astype(str).str.strip()\n",
    "df_stock['BUn'] = df_stock['BUn'].astype(str).str.strip()\n",
    "df_stock['Unrestricted'] = df_stock['Unrestricted'].astype(str).str.strip().str.replace('.', '').str.replace(',', '.').astype(float)\n",
    "df_stock['Transit_Transf'] = df_stock['Transit_Transf'].astype(str).str.strip().str.replace('.', '').str.replace(',', '.').astype(float)\n",
    "df_stock['Blocked'] = df_stock['Blocked'].astype(str).str.strip().str.replace('.', '').str.replace(',', '.').astype(float)\n",
    "df_stock['In_Qual_Insp'] = df_stock['In_Qual_Insp'].astype(str).str.strip().str.replace('.', '').str.replace(',', '.').astype(float)\n",
    "df_stock['Restricted_Use'] = df_stock['Restricted_Use'].astype(str).str.strip().str.replace('.', '').str.replace(',', '.').astype(float)\n",
    "df_stock['Returns'] = df_stock['Returns'].astype(str).str.strip().str.replace('.', '').str.replace(',', '.').astype(float)\n",
    "df_stock['Stk_in_Transit'] = df_stock['Stk_in_Transit'].astype(str).str.strip().str.replace('.', '').str.replace(',', '.').astype(float)\n",
    "\n",
    "\n"
   ]
  },
  {
   "cell_type": "code",
   "execution_count": 19,
   "metadata": {},
   "outputs": [],
   "source": [
    "df_stock['Unrestricted'] = pd.to_numeric(df_stock['Unrestricted'], errors='coerce')"
   ]
  },
  {
   "cell_type": "code",
   "execution_count": 20,
   "metadata": {},
   "outputs": [],
   "source": [
    "sorg_plant_dict = {\n",
    "    8750: [8750, 8760],\n",
    "    8300: [8330, 8302],\n",
    "    8650: [8650, 8663, 8655, 8658, 8662, 8651],\n",
    "    3000: [3000, 3002, 3010, 3014, 3016, 3018, 3022]\n",
    "}"
   ]
  },
  {
   "cell_type": "code",
   "execution_count": 21,
   "metadata": {},
   "outputs": [],
   "source": [
    "plant_to_sorg = {\n",
    "    \"8750\": \"8750\", \"8760\": \"8750\",\n",
    "    \"8330\": \"8300\", \"8302\": \"8300\",\n",
    "    \"8650\": \"8650\", \"8663\": \"8650\", \"8655\": \"8650\", \"8658\": \"8650\", \"8662\": \"8650\", \"8651\": \"8650\",\n",
    "    \"3000\": \"3000\", \"3002\": \"3000\", \"3010\": \"3000\", \"3014\": \"3000\", \"3016\": \"3000\", \"3018\": \"3000\", \"3022\": \"3000\"\n",
    "}"
   ]
  },
  {
   "cell_type": "code",
   "execution_count": 22,
   "metadata": {},
   "outputs": [
    {
     "data": {
      "text/plain": [
       "{'8750': '8750',\n",
       " '8760': '8750',\n",
       " '8330': '8300',\n",
       " '8302': '8300',\n",
       " '8650': '8650',\n",
       " '8663': '8650',\n",
       " '8655': '8650',\n",
       " '8658': '8650',\n",
       " '8662': '8650',\n",
       " '8651': '8650',\n",
       " '3000': '3000',\n",
       " '3002': '3000',\n",
       " '3010': '3000',\n",
       " '3014': '3000',\n",
       " '3016': '3000',\n",
       " '3018': '3000',\n",
       " '3022': '3000'}"
      ]
     },
     "execution_count": 22,
     "metadata": {},
     "output_type": "execute_result"
    }
   ],
   "source": [
    "plant_to_sorg"
   ]
  },
  {
   "cell_type": "code",
   "execution_count": 23,
   "metadata": {},
   "outputs": [],
   "source": [
    "def map_plant_to_sorg(plant):\n",
    "    return plant_to_sorg.get(plant, None)"
   ]
  },
  {
   "cell_type": "code",
   "execution_count": 24,
   "metadata": {},
   "outputs": [
    {
     "data": {
      "text/plain": [
       "'3000'"
      ]
     },
     "execution_count": 24,
     "metadata": {},
     "output_type": "execute_result"
    }
   ],
   "source": [
    "map_plant_to_sorg('3016')\n",
    "\n",
    "\n"
   ]
  },
  {
   "cell_type": "code",
   "execution_count": 25,
   "metadata": {},
   "outputs": [],
   "source": [
    "df_stock['Sorg'] = df_stock['Plnt'].map(map_plant_to_sorg)"
   ]
  },
  {
   "cell_type": "code",
   "execution_count": 26,
   "metadata": {},
   "outputs": [],
   "source": [
    "df_stock['key_material'] = df_stock['Sorg'] + '/' + df_stock['Material']\n",
    "df_stock['key_material'] = df_stock['key_material'].astype(str).str.strip()\n"
   ]
  },
  {
   "cell_type": "code",
   "execution_count": 27,
   "metadata": {},
   "outputs": [
    {
     "data": {
      "text/plain": [
       "'c:\\\\Users\\\\sepujas\\\\Dev\\\\mat2\\\\data\\\\preprocessed\\\\tbl_stock.csv'"
      ]
     },
     "execution_count": 27,
     "metadata": {},
     "output_type": "execute_result"
    }
   ],
   "source": [
    "stock_preprocessed_path"
   ]
  },
  {
   "cell_type": "code",
   "execution_count": 28,
   "metadata": {},
   "outputs": [],
   "source": [
    "df_stock.to_csv(stock_preprocessed_path, index=False)"
   ]
  },
  {
   "cell_type": "code",
   "execution_count": 29,
   "metadata": {},
   "outputs": [
    {
     "data": {
      "text/plain": [
       "Material                 object\n",
       "Material_Description     object\n",
       "SLoc                     object\n",
       "SL                       object\n",
       "Plnt                     object\n",
       "BUn                      object\n",
       "Unrestricted            float64\n",
       "Transit_Transf          float64\n",
       "Blocked                 float64\n",
       "In_Qual_Insp            float64\n",
       "Restricted_Use          float64\n",
       "Returns                 float64\n",
       "Stk_in_Transit          float64\n",
       "Sorg                     object\n",
       "key_material             object\n",
       "dtype: object"
      ]
     },
     "execution_count": 29,
     "metadata": {},
     "output_type": "execute_result"
    }
   ],
   "source": [
    "df_stock.dtypes"
   ]
  },
  {
   "cell_type": "code",
   "execution_count": null,
   "metadata": {},
   "outputs": [],
   "source": []
  }
 ],
 "metadata": {
  "kernelspec": {
   "display_name": ".venv",
   "language": "python",
   "name": "python3"
  },
  "language_info": {
   "codemirror_mode": {
    "name": "ipython",
    "version": 3
   },
   "file_extension": ".py",
   "mimetype": "text/x-python",
   "name": "python",
   "nbconvert_exporter": "python",
   "pygments_lexer": "ipython3",
   "version": "3.11.2"
  }
 },
 "nbformat": 4,
 "nbformat_minor": 2
}
