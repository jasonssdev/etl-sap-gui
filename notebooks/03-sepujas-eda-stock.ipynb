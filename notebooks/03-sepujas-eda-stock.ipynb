{
 "cells": [
  {
   "cell_type": "code",
   "execution_count": 2,
   "metadata": {},
   "outputs": [],
   "source": [
    "import pandas as pd\n",
    "import os"
   ]
  },
  {
   "cell_type": "code",
   "execution_count": 3,
   "metadata": {},
   "outputs": [
    {
     "name": "stdout",
     "output_type": "stream",
     "text": [
      "c:\\Users\\sepujas\\Dev\\mat\\notebooks\n"
     ]
    }
   ],
   "source": [
    "current_path = os.getcwd()\n",
    "print(current_path)"
   ]
  },
  {
   "cell_type": "code",
   "execution_count": 4,
   "metadata": {},
   "outputs": [
    {
     "name": "stdout",
     "output_type": "stream",
     "text": [
      "c:\\Users\\sepujas\\Dev\\mat\n"
     ]
    }
   ],
   "source": [
    "base_path = os.path.abspath(os.path.join(current_path, os.pardir))\n",
    "print(base_path)"
   ]
  },
  {
   "cell_type": "code",
   "execution_count": 5,
   "metadata": {},
   "outputs": [
    {
     "name": "stdout",
     "output_type": "stream",
     "text": [
      "c:\\Users\\sepujas\\Dev\\mat\\data\\raw\\tbl_stock_mb52.txt\n"
     ]
    }
   ],
   "source": [
    "stock_file_path = os.path.join(base_path, 'data', 'raw', 'tbl_stock_mb52.txt')\n",
    "print(stock_file_path)"
   ]
  },
  {
   "cell_type": "code",
   "execution_count": 6,
   "metadata": {},
   "outputs": [
    {
     "name": "stdout",
     "output_type": "stream",
     "text": [
      "c:\\Users\\sepujas\\Dev\\mat\\data\\preprocessed\\tbl_stock.csv\n"
     ]
    }
   ],
   "source": [
    "stock_preprocessed_path = os.path.join(base_path, 'data', 'preprocessed', 'tbl_stock.csv')\n",
    "print(stock_preprocessed_path)"
   ]
  },
  {
   "cell_type": "code",
   "execution_count": 18,
   "metadata": {},
   "outputs": [
    {
     "data": {
      "text/html": [
       "<div>\n",
       "<style scoped>\n",
       "    .dataframe tbody tr th:only-of-type {\n",
       "        vertical-align: middle;\n",
       "    }\n",
       "\n",
       "    .dataframe tbody tr th {\n",
       "        vertical-align: top;\n",
       "    }\n",
       "\n",
       "    .dataframe thead th {\n",
       "        text-align: right;\n",
       "    }\n",
       "</style>\n",
       "<table border=\"1\" class=\"dataframe\">\n",
       "  <thead>\n",
       "    <tr style=\"text-align: right;\">\n",
       "      <th></th>\n",
       "      <th>Unnamed: 0</th>\n",
       "      <th>Material</th>\n",
       "      <th>Material Description</th>\n",
       "      <th>Loca</th>\n",
       "      <th>SL</th>\n",
       "      <th>Plnt</th>\n",
       "      <th>BUn</th>\n",
       "      <th>Unrestricted</th>\n",
       "      <th>Transit/Transf.</th>\n",
       "      <th>Blocked</th>\n",
       "      <th>In Qual. Insp.</th>\n",
       "      <th>Restricted-Use</th>\n",
       "      <th>Returns</th>\n",
       "      <th>Stk in Transit</th>\n",
       "    </tr>\n",
       "  </thead>\n",
       "  <tbody>\n",
       "    <tr>\n",
       "      <th>32608</th>\n",
       "      <td>NaN</td>\n",
       "      <td>3954882</td>\n",
       "      <td>Cordl. dispenser HDE 500-A12</td>\n",
       "      <td>1.0</td>\n",
       "      <td>NaN</td>\n",
       "      <td>3000</td>\n",
       "      <td>PC</td>\n",
       "      <td>1</td>\n",
       "      <td>0.0</td>\n",
       "      <td>0.0</td>\n",
       "      <td>0.0</td>\n",
       "      <td>0</td>\n",
       "      <td>0</td>\n",
       "      <td>0.0</td>\n",
       "    </tr>\n",
       "    <tr>\n",
       "      <th>32609</th>\n",
       "      <td>NaN</td>\n",
       "      <td>3954933</td>\n",
       "      <td>Water supply unit DWP 15-22</td>\n",
       "      <td>1.0</td>\n",
       "      <td>NaN</td>\n",
       "      <td>3000</td>\n",
       "      <td>PC</td>\n",
       "      <td>1</td>\n",
       "      <td>0.0</td>\n",
       "      <td>0.0</td>\n",
       "      <td>0.0</td>\n",
       "      <td>0</td>\n",
       "      <td>0</td>\n",
       "      <td>0.0</td>\n",
       "    </tr>\n",
       "    <tr>\n",
       "      <th>32610</th>\n",
       "      <td>NaN</td>\n",
       "      <td>3954935</td>\n",
       "      <td>Powder-actuated tool DX 5 SM</td>\n",
       "      <td>1.0</td>\n",
       "      <td>NaN</td>\n",
       "      <td>3000</td>\n",
       "      <td>PC</td>\n",
       "      <td>1</td>\n",
       "      <td>0.0</td>\n",
       "      <td>0.0</td>\n",
       "      <td>0.0</td>\n",
       "      <td>0</td>\n",
       "      <td>0</td>\n",
       "      <td>0.0</td>\n",
       "    </tr>\n",
       "    <tr>\n",
       "      <th>32611</th>\n",
       "      <td>NaN</td>\n",
       "      <td>3954937</td>\n",
       "      <td>Cordl. impact driver SID 4-22 case</td>\n",
       "      <td>1.0</td>\n",
       "      <td>NaN</td>\n",
       "      <td>3000</td>\n",
       "      <td>PC</td>\n",
       "      <td>1</td>\n",
       "      <td>0.0</td>\n",
       "      <td>0.0</td>\n",
       "      <td>0.0</td>\n",
       "      <td>0</td>\n",
       "      <td>0</td>\n",
       "      <td>0.0</td>\n",
       "    </tr>\n",
       "    <tr>\n",
       "      <th>32612</th>\n",
       "      <td>NaN</td>\n",
       "      <td>3954940</td>\n",
       "      <td>Cordl. circular saw SC 5ML-22 box</td>\n",
       "      <td>1.0</td>\n",
       "      <td>NaN</td>\n",
       "      <td>3000</td>\n",
       "      <td>PC</td>\n",
       "      <td>1</td>\n",
       "      <td>0.0</td>\n",
       "      <td>0.0</td>\n",
       "      <td>0.0</td>\n",
       "      <td>0</td>\n",
       "      <td>0</td>\n",
       "      <td>0.0</td>\n",
       "    </tr>\n",
       "  </tbody>\n",
       "</table>\n",
       "</div>"
      ],
      "text/plain": [
       "       Unnamed: 0  Material                Material Description  Loca   SL  \\\n",
       "32608         NaN   3954882        Cordl. dispenser HDE 500-A12   1.0  NaN   \n",
       "32609         NaN   3954933         Water supply unit DWP 15-22   1.0  NaN   \n",
       "32610         NaN   3954935        Powder-actuated tool DX 5 SM   1.0  NaN   \n",
       "32611         NaN   3954937  Cordl. impact driver SID 4-22 case   1.0  NaN   \n",
       "32612         NaN   3954940   Cordl. circular saw SC 5ML-22 box   1.0  NaN   \n",
       "\n",
       "       Plnt BUn    Unrestricted  Transit/Transf.          Blocked  \\\n",
       "32608  3000  PC               1              0.0              0.0   \n",
       "32609  3000  PC               1              0.0              0.0   \n",
       "32610  3000  PC               1              0.0              0.0   \n",
       "32611  3000  PC               1              0.0              0.0   \n",
       "32612  3000  PC               1              0.0              0.0   \n",
       "\n",
       "        In Qual. Insp.   Restricted-Use          Returns   Stk in Transit  \n",
       "32608              0.0                0                0              0.0  \n",
       "32609              0.0                0                0              0.0  \n",
       "32610              0.0                0                0              0.0  \n",
       "32611              0.0                0                0              0.0  \n",
       "32612              0.0                0                0              0.0  "
      ]
     },
     "execution_count": 18,
     "metadata": {},
     "output_type": "execute_result"
    }
   ],
   "source": [
    "df_stock = pd.read_csv(stock_file_path, sep='\\t', skiprows=1, encoding='latin1')\n",
    "df_stock.tail()"
   ]
  },
  {
   "cell_type": "code",
   "execution_count": 8,
   "metadata": {},
   "outputs": [
    {
     "name": "stdout",
     "output_type": "stream",
     "text": [
      "Columns with 'Unnamed:' in their title:\n",
      "Unnamed: 0\n"
     ]
    }
   ],
   "source": [
    "unnamed_columns = [col for col in df_stock.columns if 'Unnamed:' in col]\n",
    "\n",
    "print(\"Columns with 'Unnamed:' in their title:\")\n",
    "for col in unnamed_columns:\n",
    "    print(col)"
   ]
  },
  {
   "cell_type": "code",
   "execution_count": 9,
   "metadata": {},
   "outputs": [],
   "source": [
    "df_stock.drop(columns=unnamed_columns, inplace=True)"
   ]
  },
  {
   "cell_type": "code",
   "execution_count": 10,
   "metadata": {},
   "outputs": [],
   "source": [
    "pd.set_option('display.max_columns', None)\n"
   ]
  },
  {
   "cell_type": "code",
   "execution_count": 11,
   "metadata": {},
   "outputs": [
    {
     "data": {
      "text/html": [
       "<div>\n",
       "<style scoped>\n",
       "    .dataframe tbody tr th:only-of-type {\n",
       "        vertical-align: middle;\n",
       "    }\n",
       "\n",
       "    .dataframe tbody tr th {\n",
       "        vertical-align: top;\n",
       "    }\n",
       "\n",
       "    .dataframe thead th {\n",
       "        text-align: right;\n",
       "    }\n",
       "</style>\n",
       "<table border=\"1\" class=\"dataframe\">\n",
       "  <thead>\n",
       "    <tr style=\"text-align: right;\">\n",
       "      <th></th>\n",
       "      <th>Material</th>\n",
       "      <th>Material Description</th>\n",
       "      <th>Loca</th>\n",
       "      <th>SL</th>\n",
       "      <th>Plnt</th>\n",
       "      <th>BUn</th>\n",
       "      <th>Unrestricted</th>\n",
       "      <th>Transit/Transf.</th>\n",
       "      <th>Blocked</th>\n",
       "      <th>In Qual. Insp.</th>\n",
       "      <th>Restricted-Use</th>\n",
       "      <th>Returns</th>\n",
       "      <th>Stk in Transit</th>\n",
       "    </tr>\n",
       "  </thead>\n",
       "  <tbody>\n",
       "    <tr>\n",
       "      <th>32608</th>\n",
       "      <td>3954882</td>\n",
       "      <td>Cordl. dispenser HDE 500-A12</td>\n",
       "      <td>1.0</td>\n",
       "      <td>NaN</td>\n",
       "      <td>3000</td>\n",
       "      <td>PC</td>\n",
       "      <td>1</td>\n",
       "      <td>0.0</td>\n",
       "      <td>0.0</td>\n",
       "      <td>0.0</td>\n",
       "      <td>0</td>\n",
       "      <td>0</td>\n",
       "      <td>0.0</td>\n",
       "    </tr>\n",
       "    <tr>\n",
       "      <th>32609</th>\n",
       "      <td>3954933</td>\n",
       "      <td>Water supply unit DWP 15-22</td>\n",
       "      <td>1.0</td>\n",
       "      <td>NaN</td>\n",
       "      <td>3000</td>\n",
       "      <td>PC</td>\n",
       "      <td>1</td>\n",
       "      <td>0.0</td>\n",
       "      <td>0.0</td>\n",
       "      <td>0.0</td>\n",
       "      <td>0</td>\n",
       "      <td>0</td>\n",
       "      <td>0.0</td>\n",
       "    </tr>\n",
       "    <tr>\n",
       "      <th>32610</th>\n",
       "      <td>3954935</td>\n",
       "      <td>Powder-actuated tool DX 5 SM</td>\n",
       "      <td>1.0</td>\n",
       "      <td>NaN</td>\n",
       "      <td>3000</td>\n",
       "      <td>PC</td>\n",
       "      <td>1</td>\n",
       "      <td>0.0</td>\n",
       "      <td>0.0</td>\n",
       "      <td>0.0</td>\n",
       "      <td>0</td>\n",
       "      <td>0</td>\n",
       "      <td>0.0</td>\n",
       "    </tr>\n",
       "    <tr>\n",
       "      <th>32611</th>\n",
       "      <td>3954937</td>\n",
       "      <td>Cordl. impact driver SID 4-22 case</td>\n",
       "      <td>1.0</td>\n",
       "      <td>NaN</td>\n",
       "      <td>3000</td>\n",
       "      <td>PC</td>\n",
       "      <td>1</td>\n",
       "      <td>0.0</td>\n",
       "      <td>0.0</td>\n",
       "      <td>0.0</td>\n",
       "      <td>0</td>\n",
       "      <td>0</td>\n",
       "      <td>0.0</td>\n",
       "    </tr>\n",
       "    <tr>\n",
       "      <th>32612</th>\n",
       "      <td>3954940</td>\n",
       "      <td>Cordl. circular saw SC 5ML-22 box</td>\n",
       "      <td>1.0</td>\n",
       "      <td>NaN</td>\n",
       "      <td>3000</td>\n",
       "      <td>PC</td>\n",
       "      <td>1</td>\n",
       "      <td>0.0</td>\n",
       "      <td>0.0</td>\n",
       "      <td>0.0</td>\n",
       "      <td>0</td>\n",
       "      <td>0</td>\n",
       "      <td>0.0</td>\n",
       "    </tr>\n",
       "  </tbody>\n",
       "</table>\n",
       "</div>"
      ],
      "text/plain": [
       "       Material                Material Description  Loca   SL  Plnt BUn  \\\n",
       "32608   3954882        Cordl. dispenser HDE 500-A12   1.0  NaN  3000  PC   \n",
       "32609   3954933         Water supply unit DWP 15-22   1.0  NaN  3000  PC   \n",
       "32610   3954935        Powder-actuated tool DX 5 SM   1.0  NaN  3000  PC   \n",
       "32611   3954937  Cordl. impact driver SID 4-22 case   1.0  NaN  3000  PC   \n",
       "32612   3954940   Cordl. circular saw SC 5ML-22 box   1.0  NaN  3000  PC   \n",
       "\n",
       "         Unrestricted  Transit/Transf.          Blocked   In Qual. Insp.  \\\n",
       "32608               1              0.0              0.0              0.0   \n",
       "32609               1              0.0              0.0              0.0   \n",
       "32610               1              0.0              0.0              0.0   \n",
       "32611               1              0.0              0.0              0.0   \n",
       "32612               1              0.0              0.0              0.0   \n",
       "\n",
       "        Restricted-Use          Returns   Stk in Transit  \n",
       "32608                0                0              0.0  \n",
       "32609                0                0              0.0  \n",
       "32610                0                0              0.0  \n",
       "32611                0                0              0.0  \n",
       "32612                0                0              0.0  "
      ]
     },
     "execution_count": 11,
     "metadata": {},
     "output_type": "execute_result"
    }
   ],
   "source": [
    "df_stock.tail()"
   ]
  },
  {
   "cell_type": "code",
   "execution_count": 12,
   "metadata": {},
   "outputs": [
    {
     "data": {
      "text/plain": [
       "['Material',\n",
       " 'Material Description',\n",
       " 'Loca',\n",
       " 'SL',\n",
       " 'Plnt',\n",
       " 'BUn',\n",
       " '   Unrestricted',\n",
       " 'Transit/Transf.',\n",
       " '        Blocked',\n",
       " ' In Qual. Insp.',\n",
       " ' Restricted-Use',\n",
       " '        Returns',\n",
       " ' Stk in Transit']"
      ]
     },
     "execution_count": 12,
     "metadata": {},
     "output_type": "execute_result"
    }
   ],
   "source": [
    "column_titles = df_stock.columns.tolist()\n",
    "column_titles"
   ]
  },
  {
   "cell_type": "code",
   "execution_count": 13,
   "metadata": {},
   "outputs": [],
   "source": [
    "new_column_titles = {col: col.strip().replace(' ', '_').replace('/','_').replace('-','_').replace('.','') for col in column_titles}"
   ]
  },
  {
   "cell_type": "code",
   "execution_count": 14,
   "metadata": {},
   "outputs": [],
   "source": [
    "df_stock.rename(columns=new_column_titles, inplace=True)\n"
   ]
  },
  {
   "cell_type": "code",
   "execution_count": 15,
   "metadata": {},
   "outputs": [
    {
     "data": {
      "text/plain": [
       "['Material',\n",
       " 'Material_Description',\n",
       " 'Loca',\n",
       " 'SL',\n",
       " 'Plnt',\n",
       " 'BUn',\n",
       " 'Unrestricted',\n",
       " 'Transit_Transf',\n",
       " 'Blocked',\n",
       " 'In_Qual_Insp',\n",
       " 'Restricted_Use',\n",
       " 'Returns',\n",
       " 'Stk_in_Transit']"
      ]
     },
     "execution_count": 15,
     "metadata": {},
     "output_type": "execute_result"
    }
   ],
   "source": [
    "df_stock.columns.tolist()"
   ]
  },
  {
   "cell_type": "code",
   "execution_count": 16,
   "metadata": {},
   "outputs": [
    {
     "data": {
      "text/plain": [
       "Material                  int64\n",
       "Material_Description     object\n",
       "Loca                    float64\n",
       "SL                       object\n",
       "Plnt                      int64\n",
       "BUn                      object\n",
       "Unrestricted             object\n",
       "Transit_Transf          float64\n",
       "Blocked                 float64\n",
       "In_Qual_Insp            float64\n",
       "Restricted_Use            int64\n",
       "Returns                   int64\n",
       "Stk_in_Transit          float64\n",
       "dtype: object"
      ]
     },
     "execution_count": 16,
     "metadata": {},
     "output_type": "execute_result"
    }
   ],
   "source": [
    "df_stock.dtypes"
   ]
  },
  {
   "cell_type": "code",
   "execution_count": 17,
   "metadata": {},
   "outputs": [
    {
     "ename": "KeyError",
     "evalue": "'SLoc'",
     "output_type": "error",
     "traceback": [
      "\u001b[1;31m---------------------------------------------------------------------------\u001b[0m",
      "\u001b[1;31mKeyError\u001b[0m                                  Traceback (most recent call last)",
      "File \u001b[1;32mc:\\Users\\sepujas\\Dev\\mat\\.venv\\Lib\\site-packages\\pandas\\core\\indexes\\base.py:3805\u001b[0m, in \u001b[0;36mIndex.get_loc\u001b[1;34m(self, key)\u001b[0m\n\u001b[0;32m   3804\u001b[0m \u001b[38;5;28;01mtry\u001b[39;00m:\n\u001b[1;32m-> 3805\u001b[0m     \u001b[38;5;28;01mreturn\u001b[39;00m \u001b[38;5;28;43mself\u001b[39;49m\u001b[38;5;241;43m.\u001b[39;49m\u001b[43m_engine\u001b[49m\u001b[38;5;241;43m.\u001b[39;49m\u001b[43mget_loc\u001b[49m\u001b[43m(\u001b[49m\u001b[43mcasted_key\u001b[49m\u001b[43m)\u001b[49m\n\u001b[0;32m   3806\u001b[0m \u001b[38;5;28;01mexcept\u001b[39;00m \u001b[38;5;167;01mKeyError\u001b[39;00m \u001b[38;5;28;01mas\u001b[39;00m err:\n",
      "File \u001b[1;32mindex.pyx:167\u001b[0m, in \u001b[0;36mpandas._libs.index.IndexEngine.get_loc\u001b[1;34m()\u001b[0m\n",
      "File \u001b[1;32mindex.pyx:196\u001b[0m, in \u001b[0;36mpandas._libs.index.IndexEngine.get_loc\u001b[1;34m()\u001b[0m\n",
      "File \u001b[1;32mpandas\\\\_libs\\\\hashtable_class_helper.pxi:7081\u001b[0m, in \u001b[0;36mpandas._libs.hashtable.PyObjectHashTable.get_item\u001b[1;34m()\u001b[0m\n",
      "File \u001b[1;32mpandas\\\\_libs\\\\hashtable_class_helper.pxi:7089\u001b[0m, in \u001b[0;36mpandas._libs.hashtable.PyObjectHashTable.get_item\u001b[1;34m()\u001b[0m\n",
      "\u001b[1;31mKeyError\u001b[0m: 'SLoc'",
      "\nThe above exception was the direct cause of the following exception:\n",
      "\u001b[1;31mKeyError\u001b[0m                                  Traceback (most recent call last)",
      "Cell \u001b[1;32mIn[17], line 3\u001b[0m\n\u001b[0;32m      1\u001b[0m df_stock[\u001b[38;5;124m'\u001b[39m\u001b[38;5;124mMaterial\u001b[39m\u001b[38;5;124m'\u001b[39m] \u001b[38;5;241m=\u001b[39m df_stock[\u001b[38;5;124m'\u001b[39m\u001b[38;5;124mMaterial\u001b[39m\u001b[38;5;124m'\u001b[39m]\u001b[38;5;241m.\u001b[39mfillna(\u001b[38;5;241m0\u001b[39m)\u001b[38;5;241m.\u001b[39mastype(\u001b[38;5;28mint\u001b[39m)\u001b[38;5;241m.\u001b[39mastype(\u001b[38;5;28mstr\u001b[39m)\u001b[38;5;241m.\u001b[39mstr\u001b[38;5;241m.\u001b[39mstrip()\n\u001b[0;32m      2\u001b[0m df_stock[\u001b[38;5;124m'\u001b[39m\u001b[38;5;124mMaterial_Description\u001b[39m\u001b[38;5;124m'\u001b[39m] \u001b[38;5;241m=\u001b[39m df_stock[\u001b[38;5;124m'\u001b[39m\u001b[38;5;124mMaterial_Description\u001b[39m\u001b[38;5;124m'\u001b[39m]\u001b[38;5;241m.\u001b[39mastype(\u001b[38;5;28mstr\u001b[39m)\u001b[38;5;241m.\u001b[39mstr\u001b[38;5;241m.\u001b[39mstrip()\n\u001b[1;32m----> 3\u001b[0m df_stock[\u001b[38;5;124m'\u001b[39m\u001b[38;5;124mSLoc\u001b[39m\u001b[38;5;124m'\u001b[39m] \u001b[38;5;241m=\u001b[39m \u001b[43mdf_stock\u001b[49m\u001b[43m[\u001b[49m\u001b[38;5;124;43m'\u001b[39;49m\u001b[38;5;124;43mSLoc\u001b[39;49m\u001b[38;5;124;43m'\u001b[39;49m\u001b[43m]\u001b[49m\u001b[38;5;241m.\u001b[39mfillna(\u001b[38;5;241m0\u001b[39m)\u001b[38;5;241m.\u001b[39mastype(\u001b[38;5;28mint\u001b[39m)\u001b[38;5;241m.\u001b[39mastype(\u001b[38;5;28mstr\u001b[39m)\u001b[38;5;241m.\u001b[39mstr\u001b[38;5;241m.\u001b[39mstrip()\n\u001b[0;32m      4\u001b[0m df_stock[\u001b[38;5;124m'\u001b[39m\u001b[38;5;124mSL\u001b[39m\u001b[38;5;124m'\u001b[39m] \u001b[38;5;241m=\u001b[39m df_stock[\u001b[38;5;124m'\u001b[39m\u001b[38;5;124mSL\u001b[39m\u001b[38;5;124m'\u001b[39m]\u001b[38;5;241m.\u001b[39mastype(\u001b[38;5;28mstr\u001b[39m)\u001b[38;5;241m.\u001b[39mstr\u001b[38;5;241m.\u001b[39mstrip()\n\u001b[0;32m      5\u001b[0m df_stock[\u001b[38;5;124m'\u001b[39m\u001b[38;5;124mPlnt\u001b[39m\u001b[38;5;124m'\u001b[39m] \u001b[38;5;241m=\u001b[39m df_stock[\u001b[38;5;124m'\u001b[39m\u001b[38;5;124mPlnt\u001b[39m\u001b[38;5;124m'\u001b[39m]\u001b[38;5;241m.\u001b[39mfillna(\u001b[38;5;241m0\u001b[39m)\u001b[38;5;241m.\u001b[39mastype(\u001b[38;5;28mint\u001b[39m)\u001b[38;5;241m.\u001b[39mastype(\u001b[38;5;28mstr\u001b[39m)\u001b[38;5;241m.\u001b[39mstr\u001b[38;5;241m.\u001b[39mstrip()\n",
      "File \u001b[1;32mc:\\Users\\sepujas\\Dev\\mat\\.venv\\Lib\\site-packages\\pandas\\core\\frame.py:4102\u001b[0m, in \u001b[0;36mDataFrame.__getitem__\u001b[1;34m(self, key)\u001b[0m\n\u001b[0;32m   4100\u001b[0m \u001b[38;5;28;01mif\u001b[39;00m \u001b[38;5;28mself\u001b[39m\u001b[38;5;241m.\u001b[39mcolumns\u001b[38;5;241m.\u001b[39mnlevels \u001b[38;5;241m>\u001b[39m \u001b[38;5;241m1\u001b[39m:\n\u001b[0;32m   4101\u001b[0m     \u001b[38;5;28;01mreturn\u001b[39;00m \u001b[38;5;28mself\u001b[39m\u001b[38;5;241m.\u001b[39m_getitem_multilevel(key)\n\u001b[1;32m-> 4102\u001b[0m indexer \u001b[38;5;241m=\u001b[39m \u001b[38;5;28;43mself\u001b[39;49m\u001b[38;5;241;43m.\u001b[39;49m\u001b[43mcolumns\u001b[49m\u001b[38;5;241;43m.\u001b[39;49m\u001b[43mget_loc\u001b[49m\u001b[43m(\u001b[49m\u001b[43mkey\u001b[49m\u001b[43m)\u001b[49m\n\u001b[0;32m   4103\u001b[0m \u001b[38;5;28;01mif\u001b[39;00m is_integer(indexer):\n\u001b[0;32m   4104\u001b[0m     indexer \u001b[38;5;241m=\u001b[39m [indexer]\n",
      "File \u001b[1;32mc:\\Users\\sepujas\\Dev\\mat\\.venv\\Lib\\site-packages\\pandas\\core\\indexes\\base.py:3812\u001b[0m, in \u001b[0;36mIndex.get_loc\u001b[1;34m(self, key)\u001b[0m\n\u001b[0;32m   3807\u001b[0m     \u001b[38;5;28;01mif\u001b[39;00m \u001b[38;5;28misinstance\u001b[39m(casted_key, \u001b[38;5;28mslice\u001b[39m) \u001b[38;5;129;01mor\u001b[39;00m (\n\u001b[0;32m   3808\u001b[0m         \u001b[38;5;28misinstance\u001b[39m(casted_key, abc\u001b[38;5;241m.\u001b[39mIterable)\n\u001b[0;32m   3809\u001b[0m         \u001b[38;5;129;01mand\u001b[39;00m \u001b[38;5;28many\u001b[39m(\u001b[38;5;28misinstance\u001b[39m(x, \u001b[38;5;28mslice\u001b[39m) \u001b[38;5;28;01mfor\u001b[39;00m x \u001b[38;5;129;01min\u001b[39;00m casted_key)\n\u001b[0;32m   3810\u001b[0m     ):\n\u001b[0;32m   3811\u001b[0m         \u001b[38;5;28;01mraise\u001b[39;00m InvalidIndexError(key)\n\u001b[1;32m-> 3812\u001b[0m     \u001b[38;5;28;01mraise\u001b[39;00m \u001b[38;5;167;01mKeyError\u001b[39;00m(key) \u001b[38;5;28;01mfrom\u001b[39;00m \u001b[38;5;21;01merr\u001b[39;00m\n\u001b[0;32m   3813\u001b[0m \u001b[38;5;28;01mexcept\u001b[39;00m \u001b[38;5;167;01mTypeError\u001b[39;00m:\n\u001b[0;32m   3814\u001b[0m     \u001b[38;5;66;03m# If we have a listlike key, _check_indexing_error will raise\u001b[39;00m\n\u001b[0;32m   3815\u001b[0m     \u001b[38;5;66;03m#  InvalidIndexError. Otherwise we fall through and re-raise\u001b[39;00m\n\u001b[0;32m   3816\u001b[0m     \u001b[38;5;66;03m#  the TypeError.\u001b[39;00m\n\u001b[0;32m   3817\u001b[0m     \u001b[38;5;28mself\u001b[39m\u001b[38;5;241m.\u001b[39m_check_indexing_error(key)\n",
      "\u001b[1;31mKeyError\u001b[0m: 'SLoc'"
     ]
    }
   ],
   "source": [
    "df_stock['Material'] = df_stock['Material'].fillna(0).astype(int).astype(str).str.strip()\n",
    "df_stock['Material_Description'] = df_stock['Material_Description'].astype(str).str.strip()\n",
    "df_stock['SLoc'] = df_stock['SLoc'].fillna(0).astype(int).astype(str).str.strip()\n",
    "df_stock['SL'] = df_stock['SL'].astype(str).str.strip()\n",
    "df_stock['Plnt'] = df_stock['Plnt'].fillna(0).astype(int).astype(str).str.strip()\n",
    "df_stock['BUn'] = df_stock['BUn'].astype(str).str.strip()\n",
    "df_stock['Unrestricted'] = df_stock['Unrestricted'].astype(str).str.strip().str.replace('.', '').str.replace(',', '.').astype(float)\n",
    "df_stock['Transit_Transf'] = df_stock['Transit_Transf'].astype(str).str.strip().str.replace('.', '').str.replace(',', '.').astype(float)\n",
    "df_stock['Blocked'] = df_stock['Blocked'].astype(str).str.strip().str.replace('.', '').str.replace(',', '.').astype(float)\n",
    "df_stock['In_Qual_Insp'] = df_stock['In_Qual_Insp'].astype(str).str.strip().str.replace('.', '').str.replace(',', '.').astype(float)\n",
    "df_stock['Restricted_Use'] = df_stock['Restricted_Use'].astype(str).str.strip().str.replace('.', '').str.replace(',', '.').astype(float)\n",
    "df_stock['Returns'] = df_stock['Returns'].astype(str).str.strip().str.replace('.', '').str.replace(',', '.').astype(float)\n",
    "df_stock['Stk_in_Transit'] = df_stock['Stk_in_Transit'].astype(str).str.strip().str.replace('.', '').str.replace(',', '.').astype(float)\n",
    "\n",
    "\n"
   ]
  },
  {
   "cell_type": "code",
   "execution_count": null,
   "metadata": {},
   "outputs": [],
   "source": [
    "df_stock['Unrestricted'] = pd.to_numeric(df_stock['Unrestricted'], errors='coerce')"
   ]
  },
  {
   "cell_type": "code",
   "execution_count": null,
   "metadata": {},
   "outputs": [],
   "source": [
    "sorg_plant_dict = {\n",
    "    8750: [8750, 8760],\n",
    "    8300: [8330, 8302],\n",
    "    8650: [8650, 8663, 8655, 8658, 8662, 8651],\n",
    "    3000: [3000, 3002, 3010, 3014, 3016, 3018, 3022]\n",
    "}"
   ]
  },
  {
   "cell_type": "code",
   "execution_count": null,
   "metadata": {},
   "outputs": [],
   "source": [
    "plant_to_sorg = {\n",
    "    \"8750\": \"8750\", \"8760\": \"8750\",\n",
    "    \"8330\": \"8300\", \"8302\": \"8300\",\n",
    "    \"8650\": \"8650\", \"8663\": \"8650\", \"8655\": \"8650\", \"8658\": \"8650\", \"8662\": \"8650\", \"8651\": \"8650\",\n",
    "    \"3000\": \"3000\", \"3002\": \"3000\", \"3010\": \"3000\", \"3014\": \"3000\", \"3016\": \"3000\", \"3018\": \"3000\", \"3022\": \"3000\"\n",
    "}"
   ]
  },
  {
   "cell_type": "code",
   "execution_count": null,
   "metadata": {},
   "outputs": [
    {
     "data": {
      "text/plain": [
       "{'8750': '8750',\n",
       " '8760': '8750',\n",
       " '8330': '8300',\n",
       " '8302': '8300',\n",
       " '8650': '8650',\n",
       " '8663': '8650',\n",
       " '8655': '8650',\n",
       " '8658': '8650',\n",
       " '8662': '8650',\n",
       " '8651': '8650',\n",
       " '3000': '3000',\n",
       " '3002': '3000',\n",
       " '3010': '3000',\n",
       " '3014': '3000',\n",
       " '3016': '3000',\n",
       " '3018': '3000',\n",
       " '3022': '3000'}"
      ]
     },
     "execution_count": 20,
     "metadata": {},
     "output_type": "execute_result"
    }
   ],
   "source": [
    "plant_to_sorg"
   ]
  },
  {
   "cell_type": "code",
   "execution_count": null,
   "metadata": {},
   "outputs": [],
   "source": [
    "def map_plant_to_sorg(plant):\n",
    "    return plant_to_sorg.get(plant, None)"
   ]
  },
  {
   "cell_type": "code",
   "execution_count": null,
   "metadata": {},
   "outputs": [
    {
     "data": {
      "text/plain": [
       "'3000'"
      ]
     },
     "execution_count": 22,
     "metadata": {},
     "output_type": "execute_result"
    }
   ],
   "source": [
    "map_plant_to_sorg('3016')\n",
    "\n",
    "\n"
   ]
  },
  {
   "cell_type": "code",
   "execution_count": null,
   "metadata": {},
   "outputs": [],
   "source": [
    "df_stock['Sorg'] = df_stock['Plnt'].map(map_plant_to_sorg)"
   ]
  },
  {
   "cell_type": "code",
   "execution_count": null,
   "metadata": {},
   "outputs": [],
   "source": [
    "df_stock['key_material'] = df_stock['Sorg'] + '/' + df_stock['Material']\n",
    "df_stock['key_material'] = df_stock['key_material'].astype(str).str.strip()\n"
   ]
  },
  {
   "cell_type": "code",
   "execution_count": null,
   "metadata": {},
   "outputs": [
    {
     "data": {
      "text/plain": [
       "'c:\\\\Users\\\\sepujas\\\\Dev\\\\mat\\\\data\\\\preprocessed\\\\tbl_stock.csv'"
      ]
     },
     "execution_count": 25,
     "metadata": {},
     "output_type": "execute_result"
    }
   ],
   "source": [
    "stock_preprocessed_path"
   ]
  },
  {
   "cell_type": "code",
   "execution_count": null,
   "metadata": {},
   "outputs": [],
   "source": [
    "df_stock.to_csv(stock_preprocessed_path, index=False)"
   ]
  },
  {
   "cell_type": "code",
   "execution_count": null,
   "metadata": {},
   "outputs": [
    {
     "data": {
      "text/plain": [
       "Material                 object\n",
       "Material_Description     object\n",
       "SLoc                     object\n",
       "SL                       object\n",
       "Plnt                     object\n",
       "BUn                      object\n",
       "Unrestricted            float64\n",
       "Transit_Transf          float64\n",
       "Blocked                 float64\n",
       "In_Qual_Insp            float64\n",
       "Restricted_Use          float64\n",
       "Returns                 float64\n",
       "Stk_in_Transit          float64\n",
       "Sorg                     object\n",
       "key_material             object\n",
       "dtype: object"
      ]
     },
     "execution_count": 27,
     "metadata": {},
     "output_type": "execute_result"
    }
   ],
   "source": [
    "df_stock.dtypes"
   ]
  },
  {
   "cell_type": "code",
   "execution_count": null,
   "metadata": {},
   "outputs": [],
   "source": []
  }
 ],
 "metadata": {
  "kernelspec": {
   "display_name": ".venv",
   "language": "python",
   "name": "python3"
  },
  "language_info": {
   "codemirror_mode": {
    "name": "ipython",
    "version": 3
   },
   "file_extension": ".py",
   "mimetype": "text/x-python",
   "name": "python",
   "nbconvert_exporter": "python",
   "pygments_lexer": "ipython3",
   "version": "3.12.4"
  }
 },
 "nbformat": 4,
 "nbformat_minor": 2
}
